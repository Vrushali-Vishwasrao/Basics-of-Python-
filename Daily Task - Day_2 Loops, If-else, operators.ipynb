{
 "cells": [
  {
   "cell_type": "markdown",
   "id": "8ba25a7b",
   "metadata": {},
   "source": [
    "## 1. While loop"
   ]
  },
  {
   "cell_type": "markdown",
   "id": "68f3ab72",
   "metadata": {},
   "source": [
    "### Example - 1"
   ]
  },
  {
   "cell_type": "code",
   "execution_count": 15,
   "id": "6e2ced56",
   "metadata": {},
   "outputs": [
    {
     "name": "stdout",
     "output_type": "stream",
     "text": [
      "50\n",
      "51\n",
      "52\n",
      "53\n",
      "54\n",
      "55\n",
      "56\n",
      "57\n",
      "58\n",
      "59\n"
     ]
    }
   ],
   "source": [
    "num = 50\n",
    "while num < 60:\n",
    "    print(num)\n",
    "    num += 1\n",
    "    "
   ]
  },
  {
   "cell_type": "markdown",
   "id": "a1ceb741",
   "metadata": {},
   "source": [
    "### Example - 2"
   ]
  },
  {
   "cell_type": "code",
   "execution_count": 1,
   "id": "3f81c00a",
   "metadata": {},
   "outputs": [
    {
     "name": "stdout",
     "output_type": "stream",
     "text": [
      "Type run to execute the cell:run\n"
     ]
    }
   ],
   "source": [
    "while True:\n",
    "    user_input = input('Type run to execute the cell:')\n",
    "    if user_input == 'run':\n",
    "        break"
   ]
  },
  {
   "cell_type": "markdown",
   "id": "845d11e4",
   "metadata": {},
   "source": [
    "## 2. For loop"
   ]
  },
  {
   "cell_type": "markdown",
   "id": "ebce6b8a",
   "metadata": {},
   "source": [
    "### Example - 1"
   ]
  },
  {
   "cell_type": "code",
   "execution_count": 4,
   "id": "093efe81",
   "metadata": {},
   "outputs": [
    {
     "name": "stdout",
     "output_type": "stream",
     "text": [
      "red\n",
      "blue\n",
      "orange\n",
      "grey\n",
      "green\n",
      "black\n"
     ]
    }
   ],
   "source": [
    "colour = ('red','blue','orange','grey','green','black')\n",
    "for c in colour:\n",
    "    print(c)\n"
   ]
  },
  {
   "cell_type": "markdown",
   "id": "e14c3e54",
   "metadata": {},
   "source": [
    "### Example - 2"
   ]
  },
  {
   "cell_type": "code",
   "execution_count": 39,
   "id": "4b32ae1c",
   "metadata": {},
   "outputs": [
    {
     "name": "stdout",
     "output_type": "stream",
     "text": [
      "2\n",
      "4\n",
      "6\n",
      "8\n",
      "10\n",
      "12\n",
      "14\n",
      "16\n",
      "18\n",
      "20\n",
      "22\n",
      "24\n",
      "26\n",
      "28\n"
     ]
    }
   ],
   "source": [
    "for n in range(2,30,2):\n",
    "    print(n)"
   ]
  },
  {
   "cell_type": "markdown",
   "id": "f7723983",
   "metadata": {},
   "source": [
    "## 3. if else"
   ]
  },
  {
   "cell_type": "markdown",
   "id": "4e7cf585",
   "metadata": {},
   "source": [
    "### Example - 1"
   ]
  },
  {
   "cell_type": "code",
   "execution_count": 10,
   "id": "320928b8",
   "metadata": {},
   "outputs": [
    {
     "name": "stdout",
     "output_type": "stream",
     "text": [
      "Canditate is Pass\n"
     ]
    }
   ],
   "source": [
    "res = 40\n",
    "if res == 40:\n",
    "    print('Canditate is Pass')\n",
    "else:\n",
    "    print('Candidate is fail')"
   ]
  },
  {
   "cell_type": "markdown",
   "id": "9dd1a006",
   "metadata": {},
   "source": [
    "### 'Example - 2"
   ]
  },
  {
   "cell_type": "code",
   "execution_count": 11,
   "id": "bffb5657",
   "metadata": {},
   "outputs": [
    {
     "name": "stdout",
     "output_type": "stream",
     "text": [
      "Both numbers are not equal\n"
     ]
    }
   ],
   "source": [
    "num1= 50\n",
    "num2= 100\n",
    "if num1 == num2:\n",
    "    print(\"Both numbers are equal\")\n",
    "else:\n",
    "    print(\"Both numbers are not equal\")\n"
   ]
  },
  {
   "cell_type": "markdown",
   "id": "0423db02",
   "metadata": {},
   "source": [
    "## 4. if elif else"
   ]
  },
  {
   "cell_type": "markdown",
   "id": "a9075eb1",
   "metadata": {},
   "source": [
    "### Example - 1"
   ]
  },
  {
   "cell_type": "code",
   "execution_count": 36,
   "id": "791da188",
   "metadata": {},
   "outputs": [
    {
     "name": "stdout",
     "output_type": "stream",
     "text": [
      "They are Twins\n"
     ]
    }
   ],
   "source": [
    "sis_1 = 22\n",
    "sis_2 = 22\n",
    "if sis_1 < sis_2:\n",
    "    print('Sis_1 is elder sister')\n",
    "elif sis_1 == sis_2:\n",
    "    print('They are Twins')\n",
    "else:\n",
    "    print('Sis_1 is younger sister')"
   ]
  },
  {
   "cell_type": "markdown",
   "id": "f651cbcd",
   "metadata": {},
   "source": [
    "### Example - 2"
   ]
  },
  {
   "cell_type": "code",
   "execution_count": 41,
   "id": "39f4fecb",
   "metadata": {},
   "outputs": [
    {
     "name": "stdout",
     "output_type": "stream",
     "text": [
      "It's optional but mostly happens in love marriage\n"
     ]
    }
   ],
   "source": [
    "girl = 28\n",
    "boy = 27\n",
    "if girl < boy:\n",
    "    print('Perfect age for marriage as per rule')\n",
    "elif girl > boy:\n",
    "    print(\"It's optional but mostly happens in love marriage\")\n",
    "else:\n",
    "    print(\"It's your choice\")\n"
   ]
  },
  {
   "cell_type": "markdown",
   "id": "746f912d",
   "metadata": {},
   "source": [
    "## 5. User Defined Functions without For loop & if condition"
   ]
  },
  {
   "cell_type": "markdown",
   "id": "5aeebaed",
   "metadata": {},
   "source": [
    "### Example - 1"
   ]
  },
  {
   "cell_type": "code",
   "execution_count": 4,
   "id": "a98ba9be",
   "metadata": {},
   "outputs": [],
   "source": [
    "def address(name, phone,*landmark,Building = 'Amrut Heaven', **area):\n",
    "    print('********************************************************')\n",
    "    floor = input('Enter Floor No:')\n",
    "    flat_no = input('Enter your Flat no:')\n",
    "    print('********************************************************')\n",
    "    print('Name:               ',name)\n",
    "    print('Contact No:         ',phone)\n",
    "    print('Floor No:           ',floor) \n",
    "    print('Flat no:            ',flat_no,)\n",
    "    print('Landmarks are:      ',landmark)\n",
    "    print('Building Name:      ',Building)\n",
    "    print('Area is divided into ',area)\n",
    "    print('********************************************************')"
   ]
  },
  {
   "cell_type": "code",
   "execution_count": 5,
   "id": "e0821c64",
   "metadata": {},
   "outputs": [
    {
     "name": "stdout",
     "output_type": "stream",
     "text": [
      "********************************************************\n",
      "Enter Floor No:6\n",
      "Enter your Flat no:601\n",
      "********************************************************\n",
      "Name:                Vrushali\n",
      "Contact No:          9096399465\n",
      "Floor No:            6\n",
      "Flat no:             601\n",
      "Landmarks are:       ('Police_Station', 'Don_Bosco')\n",
      "Building Name:       Amrut Heaven\n",
      "Area is divided into  {'A1': 'Khadakpada', 'A2': 'Kalyan', 'A3': 'Thane'}\n",
      "********************************************************\n"
     ]
    }
   ],
   "source": [
    "address('Vrushali',9096399465,'Police_Station', 'Don_Bosco',A1 ='Khadakpada',A2 ='Kalyan',A3 ='Thane')"
   ]
  },
  {
   "cell_type": "markdown",
   "id": "5d3eb607",
   "metadata": {},
   "source": [
    "### Example - 2"
   ]
  },
  {
   "cell_type": "code",
   "execution_count": 6,
   "id": "ba43fd54",
   "metadata": {},
   "outputs": [],
   "source": [
    "def d_mart(cust_name,prod1,prod2,prod3, *total_cost):\n",
    "    bill = input('Bill is paid or not? ')\n",
    "    print('Customer_Name        :',cust_name)\n",
    "    print('Product_1            :',prod1)\n",
    "    print('Product_2            :',prod2)\n",
    "    print('Product_3            :',prod3)\n",
    "    print('Total Payment        :',total_cost)\n",
    "    print('Bill Paid            :',bill)"
   ]
  },
  {
   "cell_type": "code",
   "execution_count": 7,
   "id": "3718cfbf",
   "metadata": {},
   "outputs": [
    {
     "name": "stdout",
     "output_type": "stream",
     "text": [
      "Bill is paid or not? yes\n",
      "Customer_Name        : Reshma\n",
      "Product_1            : Wow_facewash\n",
      "Product_2            : Rosewater\n",
      "Product_3            : bodylotion\n",
      "Total Payment        : (189, 60, 495)\n",
      "Bill Paid            : yes\n"
     ]
    }
   ],
   "source": [
    "d_mart('Reshma','Wow_facewash','Rosewater','bodylotion',189,60,495)"
   ]
  },
  {
   "cell_type": "markdown",
   "id": "792cf56b",
   "metadata": {},
   "source": [
    "## 6. User Defined Functions with For loop"
   ]
  },
  {
   "cell_type": "markdown",
   "id": "b04097d4",
   "metadata": {},
   "source": [
    "### Example -1"
   ]
  },
  {
   "cell_type": "code",
   "execution_count": 51,
   "id": "a3f93151",
   "metadata": {},
   "outputs": [],
   "source": [
    "def Data_science(tech):\n",
    "    for t in tech:\n",
    "        print(t)\n",
    "    return tech"
   ]
  },
  {
   "cell_type": "code",
   "execution_count": 52,
   "id": "f4cd94fa",
   "metadata": {},
   "outputs": [
    {
     "name": "stdout",
     "output_type": "stream",
     "text": [
      "M\n",
      "a\n",
      "c\n",
      "h\n",
      "i\n",
      "n\n",
      "e\n",
      "_\n",
      "L\n",
      "e\n",
      "a\n",
      "r\n",
      "n\n",
      "i\n",
      "n\n",
      "g\n"
     ]
    },
    {
     "data": {
      "text/plain": [
       "'Machine_Learning'"
      ]
     },
     "execution_count": 52,
     "metadata": {},
     "output_type": "execute_result"
    }
   ],
   "source": [
    "Data_science('Machine_Learning')"
   ]
  },
  {
   "cell_type": "markdown",
   "id": "906f0d04",
   "metadata": {},
   "source": [
    "### Example -2"
   ]
  },
  {
   "cell_type": "code",
   "execution_count": 53,
   "id": "d9e23690",
   "metadata": {},
   "outputs": [],
   "source": [
    "def salary(payment):\n",
    "    for p in payment:\n",
    "        print(p)\n",
    "    return payment\n",
    "    "
   ]
  },
  {
   "cell_type": "code",
   "execution_count": 57,
   "id": "927467de",
   "metadata": {},
   "outputs": [
    {
     "name": "stdout",
     "output_type": "stream",
     "text": [
      "8\n",
      "0\n",
      "0\n",
      "0\n",
      "0\n"
     ]
    },
    {
     "data": {
      "text/plain": [
       "'80000'"
      ]
     },
     "execution_count": 57,
     "metadata": {},
     "output_type": "execute_result"
    }
   ],
   "source": [
    "salary('80000')"
   ]
  },
  {
   "cell_type": "markdown",
   "id": "b19e6693",
   "metadata": {},
   "source": [
    "## 7. User Defined Functions with For loop & if condition"
   ]
  },
  {
   "cell_type": "markdown",
   "id": "ef1decd5",
   "metadata": {},
   "source": [
    "### Example -1"
   ]
  },
  {
   "cell_type": "code",
   "execution_count": 2,
   "id": "9ec6fd0d",
   "metadata": {},
   "outputs": [
    {
     "name": "stdout",
     "output_type": "stream",
     "text": [
      "Enter the number:20\n",
      "1\n",
      "2\n",
      "4\n",
      "5\n",
      "10\n",
      "20\n"
     ]
    }
   ],
   "source": [
    "def get_factors():\n",
    "    num = int(input('Enter the number:'))\n",
    "    for n in range(1, num + 1):\n",
    "        if num % n == 0:\n",
    "            print(n)   \n",
    "get_factors()"
   ]
  },
  {
   "cell_type": "markdown",
   "id": "bf98dd25",
   "metadata": {},
   "source": [
    "###  Example - 2"
   ]
  },
  {
   "cell_type": "code",
   "execution_count": 15,
   "id": "7aad779a",
   "metadata": {},
   "outputs": [],
   "source": [
    "def get_factorial(num):\n",
    "    fact =1\n",
    "    for n in range(1,num+1):\n",
    "        fact = fact*n\n",
    "    print('The Factorial of',num,'is',fact)      "
   ]
  },
  {
   "cell_type": "code",
   "execution_count": 17,
   "id": "9c3f0f68",
   "metadata": {},
   "outputs": [
    {
     "name": "stdout",
     "output_type": "stream",
     "text": [
      "The Factorial of 5 is 120\n"
     ]
    }
   ],
   "source": [
    "get_factorial(5)"
   ]
  },
  {
   "cell_type": "markdown",
   "id": "e930ffdf",
   "metadata": {},
   "source": [
    "## 8. Break"
   ]
  },
  {
   "cell_type": "markdown",
   "id": "4723c597",
   "metadata": {},
   "source": [
    "### Example - 1"
   ]
  },
  {
   "cell_type": "code",
   "execution_count": 11,
   "id": "4d1dad05",
   "metadata": {},
   "outputs": [
    {
     "name": "stdout",
     "output_type": "stream",
     "text": [
      "5\n",
      "10\n",
      "15\n",
      "20\n",
      "25\n"
     ]
    }
   ],
   "source": [
    "for i in range(5,50,5):\n",
    "    if i == 30:\n",
    "        break\n",
    "    print(i)"
   ]
  },
  {
   "cell_type": "markdown",
   "id": "10ae36f1",
   "metadata": {},
   "source": [
    "### Example - 2"
   ]
  },
  {
   "cell_type": "code",
   "execution_count": 15,
   "id": "2449ba7e",
   "metadata": {},
   "outputs": [
    {
     "name": "stdout",
     "output_type": "stream",
     "text": [
      "Enter the passward:1234\n",
      "Not matching the length of passward\n"
     ]
    }
   ],
   "source": [
    "user_pass = input('Enter the passward:')\n",
    "while True:\n",
    "    if len(user_pass) == 8:\n",
    "        print('Yor are very close to passward')\n",
    "    else:\n",
    "        break\n",
    "print('Not matching the length of passward')"
   ]
  },
  {
   "cell_type": "markdown",
   "id": "57f4487e",
   "metadata": {},
   "source": [
    "## 9. Continue"
   ]
  },
  {
   "cell_type": "markdown",
   "id": "95dc6a7c",
   "metadata": {},
   "source": [
    "### Example -1"
   ]
  },
  {
   "cell_type": "code",
   "execution_count": 21,
   "id": "51f21db2",
   "metadata": {},
   "outputs": [
    {
     "name": "stdout",
     "output_type": "stream",
     "text": [
      "13\n",
      "16\n",
      "19\n"
     ]
    }
   ],
   "source": [
    "for n in range(1,20,3):\n",
    "    if n <= 10:\n",
    "        continue\n",
    "    print(n)"
   ]
  },
  {
   "cell_type": "markdown",
   "id": "94f42c89",
   "metadata": {},
   "source": [
    "### Example -2"
   ]
  },
  {
   "cell_type": "code",
   "execution_count": 27,
   "id": "58c0d41e",
   "metadata": {},
   "outputs": [
    {
     "name": "stdout",
     "output_type": "stream",
     "text": [
      "I\n",
      "t\n",
      "s\n",
      " \n",
      "R\n",
      "a\n",
      "i\n",
      "n\n",
      "y\n"
     ]
    }
   ],
   "source": [
    "season = \"It's Rainy\"\n",
    "for s in season:\n",
    "    if s == \"'\":\n",
    "        continue\n",
    "    print(s)"
   ]
  },
  {
   "cell_type": "markdown",
   "id": "48bf32b7",
   "metadata": {},
   "source": [
    "## 10. for loop with in operator"
   ]
  },
  {
   "cell_type": "markdown",
   "id": "2f7abac0",
   "metadata": {},
   "source": [
    "### Example -1"
   ]
  },
  {
   "cell_type": "code",
   "execution_count": 45,
   "id": "098118fa",
   "metadata": {},
   "outputs": [
    {
     "name": "stdout",
     "output_type": "stream",
     "text": [
      "False\n",
      "False\n",
      "False\n",
      "False\n",
      "True\n"
     ]
    }
   ],
   "source": [
    "fruits = ('Apple','Strawberry','Grapes','Mango')\n",
    "for f in fruits:\n",
    "    print('banana' in fruits)\n",
    "print('Apple' in fruits)"
   ]
  },
  {
   "cell_type": "markdown",
   "id": "34ade716",
   "metadata": {},
   "source": [
    "### Example -2"
   ]
  },
  {
   "cell_type": "code",
   "execution_count": 2,
   "id": "51c4fc97",
   "metadata": {},
   "outputs": [
    {
     "name": "stdout",
     "output_type": "stream",
     "text": [
      "Toyato\n",
      "Honda\n",
      "BMW\n",
      "Renault\n",
      "Nissan\n",
      "Kia\n"
     ]
    }
   ],
   "source": [
    "cars = ('Toyato','Honda','BMW','Renault','Nissan','Kia')\n",
    "for car in cars:\n",
    "    print(car)"
   ]
  },
  {
   "cell_type": "markdown",
   "id": "d45c3b0e",
   "metadata": {},
   "source": [
    "## 11. for loop with if statement"
   ]
  },
  {
   "cell_type": "markdown",
   "id": "3139dd65",
   "metadata": {},
   "source": [
    "### Example -1"
   ]
  },
  {
   "cell_type": "code",
   "execution_count": 37,
   "id": "de5e0bb8",
   "metadata": {},
   "outputs": [
    {
     "name": "stdout",
     "output_type": "stream",
     "text": [
      "3\n",
      "6\n",
      "9\n",
      "12\n",
      "15\n",
      "18\n"
     ]
    }
   ],
   "source": [
    "for i in range(3,31,3):\n",
    "    if i < 20:\n",
    "        print(i)"
   ]
  },
  {
   "cell_type": "markdown",
   "id": "ca93b152",
   "metadata": {},
   "source": [
    "### Example -2"
   ]
  },
  {
   "cell_type": "code",
   "execution_count": 4,
   "id": "231eae88",
   "metadata": {},
   "outputs": [
    {
     "name": "stdout",
     "output_type": "stream",
     "text": [
      "Oak\n",
      "Aspen\n",
      "Birch\n"
     ]
    }
   ],
   "source": [
    "trees = ('Oak','Aspen','Birch','Ash','Willow','Cedar')\n",
    "for tree in trees:\n",
    "  print(tree)\n",
    "  if tree == 'Birch':\n",
    "    break"
   ]
  },
  {
   "cell_type": "markdown",
   "id": "53fe5b8a",
   "metadata": {},
   "source": [
    "## 12. for loop with not in operator"
   ]
  },
  {
   "cell_type": "code",
   "execution_count": 5,
   "id": "56339b5f",
   "metadata": {},
   "outputs": [
    {
     "name": "stdout",
     "output_type": "stream",
     "text": [
      "Not Available\n"
     ]
    }
   ],
   "source": [
    "for word in 'Hello':\n",
    "    if 'y' not in word:\n",
    "        print('Not Available')\n",
    "        break"
   ]
  }
 ],
 "metadata": {
  "kernelspec": {
   "display_name": "Python 3 (ipykernel)",
   "language": "python",
   "name": "python3"
  },
  "language_info": {
   "codemirror_mode": {
    "name": "ipython",
    "version": 3
   },
   "file_extension": ".py",
   "mimetype": "text/x-python",
   "name": "python",
   "nbconvert_exporter": "python",
   "pygments_lexer": "ipython3",
   "version": "3.9.12"
  }
 },
 "nbformat": 4,
 "nbformat_minor": 5
}
