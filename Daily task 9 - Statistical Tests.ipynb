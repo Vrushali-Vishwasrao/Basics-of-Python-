{
 "cells": [
  {
   "cell_type": "markdown",
   "id": "05df5ab9",
   "metadata": {},
   "source": [
    "## I. T Test\n",
    "\n",
    "* 1 Sample\n",
    "* 2 Sample\n",
    "* Paired T Test\n",
    "* 1 Sample proportion test\n",
    "* 2 Sample proportion test\n",
    "* Anova Test"
   ]
  },
  {
   "cell_type": "markdown",
   "id": "7dfe2f29",
   "metadata": {},
   "source": [
    "## 1. One Sample T test\n",
    "### So, in this example, suppose we want to sample a spending time by mobile users to check if the average time is more than 120 minutes.\n",
    "\n",
    "* Our null hypothesis is: the mean time is exactly 120 minutes\n",
    "* Our alternative hypothesis is: the mean time is not 120 minutes"
   ]
  },
  {
   "cell_type": "code",
   "execution_count": 1,
   "id": "f7d5647f",
   "metadata": {},
   "outputs": [
    {
     "data": {
      "text/plain": [
       "30"
      ]
     },
     "execution_count": 1,
     "metadata": {},
     "output_type": "execute_result"
    }
   ],
   "source": [
    "#Time spending by mobile users in minutes \n",
    "minutes = [180,122,100,120,60,90,120,110,140,175,120,130,120,225,125,30,200,158,120,135,40,55,160,55,48,146,230,180,78,90]\n",
    "len(minutes) # Population"
   ]
  },
  {
   "cell_type": "code",
   "execution_count": 2,
   "id": "d881cdaf",
   "metadata": {},
   "outputs": [
    {
     "data": {
      "text/plain": [
       "122.06666666666666"
      ]
     },
     "execution_count": 2,
     "metadata": {},
     "output_type": "execute_result"
    }
   ],
   "source": [
    "import numpy as np\n",
    "np.mean(minutes) # Population mean"
   ]
  },
  {
   "cell_type": "code",
   "execution_count": 3,
   "id": "7eaaccae",
   "metadata": {},
   "outputs": [
    {
     "data": {
      "text/plain": [
       "array([120, 146,  90, 225, 120])"
      ]
     },
     "execution_count": 3,
     "metadata": {},
     "output_type": "execute_result"
    }
   ],
   "source": [
    "random_selection_from_pop = np.random.choice(a = minutes, size=5)\n",
    "random_selection_from_pop"
   ]
  },
  {
   "cell_type": "code",
   "execution_count": 4,
   "id": "1af0972c",
   "metadata": {},
   "outputs": [
    {
     "data": {
      "text/plain": [
       "140.2"
      ]
     },
     "execution_count": 4,
     "metadata": {},
     "output_type": "execute_result"
    }
   ],
   "source": [
    "np.mean(random_selection_from_pop) # Sample mean"
   ]
  },
  {
   "cell_type": "code",
   "execution_count": 5,
   "id": "d87e21b6",
   "metadata": {},
   "outputs": [],
   "source": [
    "from scipy import stats\n",
    "_,pval = stats.ttest_1samp(a = random_selection_from_pop, popmean = 122 )"
   ]
  },
  {
   "cell_type": "code",
   "execution_count": 6,
   "id": "4ccbbbaa",
   "metadata": {},
   "outputs": [
    {
     "name": "stdout",
     "output_type": "stream",
     "text": [
      "0.7920233342827273\n",
      "0.47266930756565606\n"
     ]
    }
   ],
   "source": [
    "print(_)\n",
    "print(pval)"
   ]
  },
  {
   "cell_type": "code",
   "execution_count": 7,
   "id": "76d5d76b",
   "metadata": {},
   "outputs": [
    {
     "name": "stdout",
     "output_type": "stream",
     "text": [
      "We do not reject the Null Hypothesis and we can claim that there is no significant difference in the population mean and sample mean\n"
     ]
    }
   ],
   "source": [
    "#Level if significance - 10%. ie, At 10% level of significance, do we reject or not reject?\n",
    "if pval<0.1:\n",
    "    print('We can reject the Null Hypothesis and we can claim that there is a significant difference in the population mean and sample mean')\n",
    "else:\n",
    "    print('We do not reject the Null Hypothesis and we can claim that there is no significant difference in the population mean and sample mean')"
   ]
  },
  {
   "cell_type": "markdown",
   "id": "02185ec4",
   "metadata": {},
   "source": [
    "## 2. Two Sample T test\n",
    "### So, in this example, suppose we want to sample a mango trees for different fertilizers\n",
    "\n",
    "* Our null hypothesis is: Organic fertilizer is good for production\n",
    "* Our alternative hypothesis is: Chemical fertilizer is good for production"
   ]
  },
  {
   "cell_type": "code",
   "execution_count": 8,
   "id": "e01a3dcb",
   "metadata": {},
   "outputs": [],
   "source": [
    "import numpy as np\n",
    "from scipy import stats\n",
    "\n",
    "Organic_mangos  = [50,55,45,30,20,25,40,42,36,48] # No. of mangos with organic fertilizer from different 10 trees\n",
    "Chemical_mangos = [80,60,75,83,85,75,65,100,90,95] # No. of mangos with chemical fertilizer from different 10 trees"
   ]
  },
  {
   "cell_type": "code",
   "execution_count": 9,
   "id": "e6851bf8",
   "metadata": {},
   "outputs": [
    {
     "data": {
      "text/plain": [
       "39.1"
      ]
     },
     "execution_count": 9,
     "metadata": {},
     "output_type": "execute_result"
    }
   ],
   "source": [
    "np.mean(Organic_mangos)"
   ]
  },
  {
   "cell_type": "code",
   "execution_count": 10,
   "id": "39350de8",
   "metadata": {},
   "outputs": [
    {
     "data": {
      "text/plain": [
       "80.8"
      ]
     },
     "execution_count": 10,
     "metadata": {},
     "output_type": "execute_result"
    }
   ],
   "source": [
    "np.mean(Chemical_mangos)"
   ]
  },
  {
   "cell_type": "code",
   "execution_count": 11,
   "id": "777d37b1",
   "metadata": {},
   "outputs": [
    {
     "data": {
      "text/plain": [
       "3.5677940572369257e-07"
      ]
     },
     "execution_count": 11,
     "metadata": {},
     "output_type": "execute_result"
    }
   ],
   "source": [
    "_,pval = stats.ttest_ind(a = Organic_mangos,b = Chemical_mangos)\n",
    "pval"
   ]
  },
  {
   "cell_type": "code",
   "execution_count": 12,
   "id": "3e328cec",
   "metadata": {},
   "outputs": [
    {
     "name": "stdout",
     "output_type": "stream",
     "text": [
      "We reject the Null Hypothesis and we can claim that there is a significant difference in the average nos of mangos with chemical fertilizer and organic fertilizer for production\n"
     ]
    }
   ],
   "source": [
    "#Level if significance - 5%. ie, At 5% level of significance, do we reject or not reject?\n",
    "if pval<0.05:\n",
    "    print('We reject the Null Hypothesis and we can claim that there is a significant difference in the average nos of mangos with chemical fertilizer and organic fertilizer for production')\n",
    "else:\n",
    "    print('We do not reject the Null Hypothesis and we can claim that there is no significant difference in the average nos of mangos are with chemical fertilizer and organic fertilizer for production')"
   ]
  },
  {
   "cell_type": "markdown",
   "id": "5ba13ca4",
   "metadata": {},
   "source": [
    "## 3. Paired T Test\n",
    "### Here we are going to calculate working time with focus of human with and without meditation in minutes\n",
    "\n",
    "* Our null hypothesis is: We can focus more than 10 hrs without meditation\n",
    "* Our alternative hypothesis is: We cannot focus more than 10 hrs without meditation"
   ]
  },
  {
   "cell_type": "code",
   "execution_count": 13,
   "id": "47b7107a",
   "metadata": {},
   "outputs": [],
   "source": [
    "pre_meditation_program  = [480,420,400,360,300,320,340,500,380,420]\n",
    "post_meditation_program = [540,600,720,650,700,630,560,670,800,740]"
   ]
  },
  {
   "cell_type": "code",
   "execution_count": 14,
   "id": "cdd4b411",
   "metadata": {},
   "outputs": [
    {
     "data": {
      "text/plain": [
       "392.0"
      ]
     },
     "execution_count": 14,
     "metadata": {},
     "output_type": "execute_result"
    }
   ],
   "source": [
    "np.mean(pre_meditation_program)"
   ]
  },
  {
   "cell_type": "code",
   "execution_count": 15,
   "id": "bde26f12",
   "metadata": {},
   "outputs": [
    {
     "data": {
      "text/plain": [
       "661.0"
      ]
     },
     "execution_count": 15,
     "metadata": {},
     "output_type": "execute_result"
    }
   ],
   "source": [
    "np.mean(post_meditation_program)"
   ]
  },
  {
   "cell_type": "code",
   "execution_count": 16,
   "id": "d9f13719",
   "metadata": {},
   "outputs": [
    {
     "data": {
      "text/plain": [
       "3.137229239240941e-05"
      ]
     },
     "execution_count": 16,
     "metadata": {},
     "output_type": "execute_result"
    }
   ],
   "source": [
    "_,pval = stats.ttest_rel(a = pre_meditation_program, b = post_meditation_program)\n",
    "pval"
   ]
  },
  {
   "cell_type": "code",
   "execution_count": 1,
   "id": "436ea053",
   "metadata": {},
   "outputs": [
    {
     "ename": "NameError",
     "evalue": "name 'pval' is not defined",
     "output_type": "error",
     "traceback": [
      "\u001b[1;31m---------------------------------------------------------------------------\u001b[0m",
      "\u001b[1;31mNameError\u001b[0m                                 Traceback (most recent call last)",
      "Input \u001b[1;32mIn [1]\u001b[0m, in \u001b[0;36m<cell line: 2>\u001b[1;34m()\u001b[0m\n\u001b[0;32m      1\u001b[0m \u001b[38;5;66;03m#Level if significance - 10%. ie, At 10% level of significance, do we reject or not reject?\u001b[39;00m\n\u001b[1;32m----> 2\u001b[0m \u001b[38;5;28;01mif\u001b[39;00m \u001b[43mpval\u001b[49m\u001b[38;5;241m<\u001b[39m\u001b[38;5;241m0.1\u001b[39m:\n\u001b[0;32m      3\u001b[0m     \u001b[38;5;28mprint\u001b[39m(\u001b[38;5;124m'\u001b[39m\u001b[38;5;124mWe reject the Null Hypothesis and we can claim that there is a significant difference in the average working hrs with & without meditaion. So,We cannot focus more than 10 hrs without meditation\u001b[39m\u001b[38;5;124m'\u001b[39m)\n\u001b[0;32m      4\u001b[0m \u001b[38;5;28;01melse\u001b[39;00m:\n",
      "\u001b[1;31mNameError\u001b[0m: name 'pval' is not defined"
     ]
    }
   ],
   "source": [
    "#Level if significance - 10%. ie, At 10% level of significance, do we reject or not reject?\n",
    "if pval<0.1:\n",
    "    print('We reject the Null Hypothesis and we can claim that there is a significant difference in the average working hrs with & without meditaion. So,We cannot focus more than 10 hrs without meditation')\n",
    "else:\n",
    "    print('We do not reject the Null Hypothesis and we can claim that there is no significant difference in the average working hrs with & without meditaion, so we cannot focus more than 10 hrs without meditation')"
   ]
  },
  {
   "cell_type": "markdown",
   "id": "12904518",
   "metadata": {},
   "source": [
    "## 4. One Sample proportion test"
   ]
  },
  {
   "cell_type": "markdown",
   "id": "6c379d3c",
   "metadata": {},
   "source": [
    "### Example:\n",
    " \n",
    "* Null hypothesis is: 80% of the tests pass\n",
    "* Alternative hypothesis is: more than 80% of the tests pass\n",
    "* We sampled 500 tests, and found 410 passed"
   ]
  },
  {
   "cell_type": "code",
   "execution_count": 18,
   "id": "0c659818",
   "metadata": {},
   "outputs": [],
   "source": [
    "from statsmodels.stats.proportion import proportions_ztest"
   ]
  },
  {
   "cell_type": "code",
   "execution_count": 19,
   "id": "33665d13",
   "metadata": {},
   "outputs": [],
   "source": [
    "sample_success = 410\n",
    "sample_size = 500\n",
    "null_hypothesis = 0.80"
   ]
  },
  {
   "cell_type": "code",
   "execution_count": 20,
   "id": "f196984e",
   "metadata": {},
   "outputs": [
    {
     "data": {
      "text/plain": [
       "0.12220177493249235"
      ]
     },
     "execution_count": 20,
     "metadata": {},
     "output_type": "execute_result"
    }
   ],
   "source": [
    "stat, p_value = proportions_ztest(count=sample_success, nobs=sample_size, value=null_hypothesis, alternative='larger')\n",
    "p_value"
   ]
  },
  {
   "cell_type": "code",
   "execution_count": 21,
   "id": "4f1236c4",
   "metadata": {},
   "outputs": [
    {
     "name": "stdout",
     "output_type": "stream",
     "text": [
      "Reject the null hypothesis - suggest the alternative hypothesis is true\n"
     ]
    }
   ],
   "source": [
    "#Level if significance - 10%. ie, At 10% level of significance, do we reject or not reject?\n",
    "significance = 0.1\n",
    "if p_value < significance:\n",
    "   print (\"Fail to reject the null hypothesis - we have nothing else to say\")\n",
    "else:\n",
    "   print (\"Reject the null hypothesis - suggest the alternative hypothesis is true\")"
   ]
  },
  {
   "cell_type": "markdown",
   "id": "a62c3878",
   "metadata": {},
   "source": [
    "## 5.  One Sample proportion test\n",
    "\n",
    "* H0 : There is 40% are non-smoker\n",
    "* Ha : There is no more than 40% are smokers (Statistically significant).\n",
    "* For our understanding we have taken tips data as sample"
   ]
  },
  {
   "cell_type": "code",
   "execution_count": 22,
   "id": "95b97040",
   "metadata": {},
   "outputs": [],
   "source": [
    "import seaborn as sns\n",
    "from seaborn import load_dataset\n",
    "from statsmodels.stats.proportion import proportions_ztest"
   ]
  },
  {
   "cell_type": "code",
   "execution_count": 23,
   "id": "d8ff147b",
   "metadata": {},
   "outputs": [
    {
     "data": {
      "text/plain": [
       "['anagrams',\n",
       " 'anscombe',\n",
       " 'attention',\n",
       " 'brain_networks',\n",
       " 'car_crashes',\n",
       " 'diamonds',\n",
       " 'dots',\n",
       " 'exercise',\n",
       " 'flights',\n",
       " 'fmri',\n",
       " 'gammas',\n",
       " 'geyser',\n",
       " 'iris',\n",
       " 'mpg',\n",
       " 'penguins',\n",
       " 'planets',\n",
       " 'taxis',\n",
       " 'tips',\n",
       " 'titanic']"
      ]
     },
     "execution_count": 23,
     "metadata": {},
     "output_type": "execute_result"
    }
   ],
   "source": [
    "sns.get_dataset_names()"
   ]
  },
  {
   "cell_type": "code",
   "execution_count": 24,
   "id": "df77ad40",
   "metadata": {},
   "outputs": [
    {
     "data": {
      "text/html": [
       "<div>\n",
       "<style scoped>\n",
       "    .dataframe tbody tr th:only-of-type {\n",
       "        vertical-align: middle;\n",
       "    }\n",
       "\n",
       "    .dataframe tbody tr th {\n",
       "        vertical-align: top;\n",
       "    }\n",
       "\n",
       "    .dataframe thead th {\n",
       "        text-align: right;\n",
       "    }\n",
       "</style>\n",
       "<table border=\"1\" class=\"dataframe\">\n",
       "  <thead>\n",
       "    <tr style=\"text-align: right;\">\n",
       "      <th></th>\n",
       "      <th>total_bill</th>\n",
       "      <th>tip</th>\n",
       "      <th>sex</th>\n",
       "      <th>smoker</th>\n",
       "      <th>day</th>\n",
       "      <th>time</th>\n",
       "      <th>size</th>\n",
       "    </tr>\n",
       "  </thead>\n",
       "  <tbody>\n",
       "    <tr>\n",
       "      <th>0</th>\n",
       "      <td>16.99</td>\n",
       "      <td>1.01</td>\n",
       "      <td>Female</td>\n",
       "      <td>No</td>\n",
       "      <td>Sun</td>\n",
       "      <td>Dinner</td>\n",
       "      <td>2</td>\n",
       "    </tr>\n",
       "    <tr>\n",
       "      <th>1</th>\n",
       "      <td>10.34</td>\n",
       "      <td>1.66</td>\n",
       "      <td>Male</td>\n",
       "      <td>No</td>\n",
       "      <td>Sun</td>\n",
       "      <td>Dinner</td>\n",
       "      <td>3</td>\n",
       "    </tr>\n",
       "    <tr>\n",
       "      <th>2</th>\n",
       "      <td>21.01</td>\n",
       "      <td>3.50</td>\n",
       "      <td>Male</td>\n",
       "      <td>No</td>\n",
       "      <td>Sun</td>\n",
       "      <td>Dinner</td>\n",
       "      <td>3</td>\n",
       "    </tr>\n",
       "    <tr>\n",
       "      <th>3</th>\n",
       "      <td>23.68</td>\n",
       "      <td>3.31</td>\n",
       "      <td>Male</td>\n",
       "      <td>No</td>\n",
       "      <td>Sun</td>\n",
       "      <td>Dinner</td>\n",
       "      <td>2</td>\n",
       "    </tr>\n",
       "    <tr>\n",
       "      <th>4</th>\n",
       "      <td>24.59</td>\n",
       "      <td>3.61</td>\n",
       "      <td>Female</td>\n",
       "      <td>No</td>\n",
       "      <td>Sun</td>\n",
       "      <td>Dinner</td>\n",
       "      <td>4</td>\n",
       "    </tr>\n",
       "    <tr>\n",
       "      <th>...</th>\n",
       "      <td>...</td>\n",
       "      <td>...</td>\n",
       "      <td>...</td>\n",
       "      <td>...</td>\n",
       "      <td>...</td>\n",
       "      <td>...</td>\n",
       "      <td>...</td>\n",
       "    </tr>\n",
       "    <tr>\n",
       "      <th>239</th>\n",
       "      <td>29.03</td>\n",
       "      <td>5.92</td>\n",
       "      <td>Male</td>\n",
       "      <td>No</td>\n",
       "      <td>Sat</td>\n",
       "      <td>Dinner</td>\n",
       "      <td>3</td>\n",
       "    </tr>\n",
       "    <tr>\n",
       "      <th>240</th>\n",
       "      <td>27.18</td>\n",
       "      <td>2.00</td>\n",
       "      <td>Female</td>\n",
       "      <td>Yes</td>\n",
       "      <td>Sat</td>\n",
       "      <td>Dinner</td>\n",
       "      <td>2</td>\n",
       "    </tr>\n",
       "    <tr>\n",
       "      <th>241</th>\n",
       "      <td>22.67</td>\n",
       "      <td>2.00</td>\n",
       "      <td>Male</td>\n",
       "      <td>Yes</td>\n",
       "      <td>Sat</td>\n",
       "      <td>Dinner</td>\n",
       "      <td>2</td>\n",
       "    </tr>\n",
       "    <tr>\n",
       "      <th>242</th>\n",
       "      <td>17.82</td>\n",
       "      <td>1.75</td>\n",
       "      <td>Male</td>\n",
       "      <td>No</td>\n",
       "      <td>Sat</td>\n",
       "      <td>Dinner</td>\n",
       "      <td>2</td>\n",
       "    </tr>\n",
       "    <tr>\n",
       "      <th>243</th>\n",
       "      <td>18.78</td>\n",
       "      <td>3.00</td>\n",
       "      <td>Female</td>\n",
       "      <td>No</td>\n",
       "      <td>Thur</td>\n",
       "      <td>Dinner</td>\n",
       "      <td>2</td>\n",
       "    </tr>\n",
       "  </tbody>\n",
       "</table>\n",
       "<p>244 rows × 7 columns</p>\n",
       "</div>"
      ],
      "text/plain": [
       "     total_bill   tip     sex smoker   day    time  size\n",
       "0         16.99  1.01  Female     No   Sun  Dinner     2\n",
       "1         10.34  1.66    Male     No   Sun  Dinner     3\n",
       "2         21.01  3.50    Male     No   Sun  Dinner     3\n",
       "3         23.68  3.31    Male     No   Sun  Dinner     2\n",
       "4         24.59  3.61  Female     No   Sun  Dinner     4\n",
       "..          ...   ...     ...    ...   ...     ...   ...\n",
       "239       29.03  5.92    Male     No   Sat  Dinner     3\n",
       "240       27.18  2.00  Female    Yes   Sat  Dinner     2\n",
       "241       22.67  2.00    Male    Yes   Sat  Dinner     2\n",
       "242       17.82  1.75    Male     No   Sat  Dinner     2\n",
       "243       18.78  3.00  Female     No  Thur  Dinner     2\n",
       "\n",
       "[244 rows x 7 columns]"
      ]
     },
     "execution_count": 24,
     "metadata": {},
     "output_type": "execute_result"
    }
   ],
   "source": [
    "tips_data = load_dataset('tips')\n",
    "tips_data"
   ]
  },
  {
   "cell_type": "code",
   "execution_count": 25,
   "id": "190e22f1",
   "metadata": {},
   "outputs": [
    {
     "data": {
      "text/plain": [
       "No     151\n",
       "Yes     93\n",
       "Name: smoker, dtype: int64"
      ]
     },
     "execution_count": 25,
     "metadata": {},
     "output_type": "execute_result"
    }
   ],
   "source": [
    "tips_data['smoker'].value_counts()"
   ]
  },
  {
   "cell_type": "code",
   "execution_count": 26,
   "id": "c52a2148",
   "metadata": {},
   "outputs": [
    {
     "name": "stdout",
     "output_type": "stream",
     "text": [
      "per_yes is 38.11 %\n"
     ]
    }
   ],
   "source": [
    "per_yes = round(93/244*100,2)\n",
    "print(\"per_yes is\",per_yes,'%')"
   ]
  },
  {
   "cell_type": "code",
   "execution_count": 27,
   "id": "1f196e75",
   "metadata": {},
   "outputs": [
    {
     "name": "stdout",
     "output_type": "stream",
     "text": [
      "per_no is 61.89 %\n"
     ]
    }
   ],
   "source": [
    "per_no = round(151/244*100,2)\n",
    "print(\"per_no is\",per_no,'%')"
   ]
  },
  {
   "cell_type": "code",
   "execution_count": 28,
   "id": "4fb1e39d",
   "metadata": {},
   "outputs": [
    {
     "data": {
      "text/plain": [
       "0.7278585473640354"
      ]
     },
     "execution_count": 28,
     "metadata": {},
     "output_type": "execute_result"
    }
   ],
   "source": [
    "stat, p_value = proportions_ztest(count=93, nobs=244, value=0.4, alternative='larger')\n",
    "p_value"
   ]
  },
  {
   "cell_type": "code",
   "execution_count": 29,
   "id": "47b557bb",
   "metadata": {},
   "outputs": [
    {
     "name": "stdout",
     "output_type": "stream",
     "text": [
      "Reject the null hypothesis & consider the alternative hypothesis is true\n"
     ]
    }
   ],
   "source": [
    "#Level if significance - 5%. ie, At 5% level of significance, do we reject or not reject?\n",
    "significance = 0.05\n",
    "if p_value < significance:\n",
    "   print (\"Fail to reject the null hypothesis\")\n",
    "else:\n",
    "   print (\"Reject the null hypothesis & consider the alternative hypothesis is true\")"
   ]
  },
  {
   "cell_type": "markdown",
   "id": "165bd2d9",
   "metadata": {},
   "source": [
    "## 6. Two Sample proportion test\n",
    "\n",
    "* H0 : People never be depressed\n",
    "* Ha : People can be depressed (Statistically significant)"
   ]
  },
  {
   "cell_type": "code",
   "execution_count": 30,
   "id": "8f258ec3",
   "metadata": {},
   "outputs": [],
   "source": [
    "import pandas as pd\n",
    "import numpy as np\n",
    "from statsmodels.stats.proportion import proportions_ztest"
   ]
  },
  {
   "cell_type": "code",
   "execution_count": 31,
   "id": "6d836062",
   "metadata": {},
   "outputs": [
    {
     "data": {
      "text/html": [
       "<div>\n",
       "<style scoped>\n",
       "    .dataframe tbody tr th:only-of-type {\n",
       "        vertical-align: middle;\n",
       "    }\n",
       "\n",
       "    .dataframe tbody tr th {\n",
       "        vertical-align: top;\n",
       "    }\n",
       "\n",
       "    .dataframe thead th {\n",
       "        text-align: right;\n",
       "    }\n",
       "</style>\n",
       "<table border=\"1\" class=\"dataframe\">\n",
       "  <thead>\n",
       "    <tr style=\"text-align: right;\">\n",
       "      <th></th>\n",
       "      <th>Old Therapy</th>\n",
       "      <th>New Therapy</th>\n",
       "    </tr>\n",
       "  </thead>\n",
       "  <tbody>\n",
       "    <tr>\n",
       "      <th>0</th>\n",
       "      <td>Yes</td>\n",
       "      <td>No</td>\n",
       "    </tr>\n",
       "    <tr>\n",
       "      <th>1</th>\n",
       "      <td>Yes</td>\n",
       "      <td>No</td>\n",
       "    </tr>\n",
       "    <tr>\n",
       "      <th>2</th>\n",
       "      <td>Yes</td>\n",
       "      <td>No</td>\n",
       "    </tr>\n",
       "    <tr>\n",
       "      <th>3</th>\n",
       "      <td>Yes</td>\n",
       "      <td>No</td>\n",
       "    </tr>\n",
       "    <tr>\n",
       "      <th>4</th>\n",
       "      <td>Yes</td>\n",
       "      <td>No</td>\n",
       "    </tr>\n",
       "    <tr>\n",
       "      <th>5</th>\n",
       "      <td>Yes</td>\n",
       "      <td>No</td>\n",
       "    </tr>\n",
       "    <tr>\n",
       "      <th>6</th>\n",
       "      <td>Yes</td>\n",
       "      <td>No</td>\n",
       "    </tr>\n",
       "    <tr>\n",
       "      <th>7</th>\n",
       "      <td>Yes</td>\n",
       "      <td>No</td>\n",
       "    </tr>\n",
       "    <tr>\n",
       "      <th>8</th>\n",
       "      <td>No</td>\n",
       "      <td>No</td>\n",
       "    </tr>\n",
       "    <tr>\n",
       "      <th>9</th>\n",
       "      <td>Yes</td>\n",
       "      <td>No</td>\n",
       "    </tr>\n",
       "  </tbody>\n",
       "</table>\n",
       "</div>"
      ],
      "text/plain": [
       "  Old Therapy New Therapy\n",
       "0         Yes          No\n",
       "1         Yes          No\n",
       "2         Yes          No\n",
       "3         Yes          No\n",
       "4         Yes          No\n",
       "5         Yes          No\n",
       "6         Yes          No\n",
       "7         Yes          No\n",
       "8          No          No\n",
       "9         Yes          No"
      ]
     },
     "execution_count": 31,
     "metadata": {},
     "output_type": "execute_result"
    }
   ],
   "source": [
    "depression_data = pd.read_csv(\"Depression_status.csv\")\n",
    "depression_data.head(10)"
   ]
  },
  {
   "cell_type": "code",
   "execution_count": 32,
   "id": "1e6f0ee8",
   "metadata": {},
   "outputs": [
    {
     "data": {
      "text/html": [
       "<div>\n",
       "<style scoped>\n",
       "    .dataframe tbody tr th:only-of-type {\n",
       "        vertical-align: middle;\n",
       "    }\n",
       "\n",
       "    .dataframe tbody tr th {\n",
       "        vertical-align: top;\n",
       "    }\n",
       "\n",
       "    .dataframe thead th {\n",
       "        text-align: right;\n",
       "    }\n",
       "</style>\n",
       "<table border=\"1\" class=\"dataframe\">\n",
       "  <thead>\n",
       "    <tr style=\"text-align: right;\">\n",
       "      <th></th>\n",
       "      <th>Old_Therapy</th>\n",
       "      <th>New_Therapy</th>\n",
       "    </tr>\n",
       "  </thead>\n",
       "  <tbody>\n",
       "    <tr>\n",
       "      <th>0</th>\n",
       "      <td>Yes</td>\n",
       "      <td>No</td>\n",
       "    </tr>\n",
       "    <tr>\n",
       "      <th>1</th>\n",
       "      <td>Yes</td>\n",
       "      <td>No</td>\n",
       "    </tr>\n",
       "    <tr>\n",
       "      <th>2</th>\n",
       "      <td>Yes</td>\n",
       "      <td>No</td>\n",
       "    </tr>\n",
       "    <tr>\n",
       "      <th>3</th>\n",
       "      <td>Yes</td>\n",
       "      <td>No</td>\n",
       "    </tr>\n",
       "    <tr>\n",
       "      <th>4</th>\n",
       "      <td>Yes</td>\n",
       "      <td>No</td>\n",
       "    </tr>\n",
       "    <tr>\n",
       "      <th>5</th>\n",
       "      <td>Yes</td>\n",
       "      <td>No</td>\n",
       "    </tr>\n",
       "    <tr>\n",
       "      <th>6</th>\n",
       "      <td>Yes</td>\n",
       "      <td>No</td>\n",
       "    </tr>\n",
       "    <tr>\n",
       "      <th>7</th>\n",
       "      <td>Yes</td>\n",
       "      <td>No</td>\n",
       "    </tr>\n",
       "    <tr>\n",
       "      <th>8</th>\n",
       "      <td>No</td>\n",
       "      <td>No</td>\n",
       "    </tr>\n",
       "    <tr>\n",
       "      <th>9</th>\n",
       "      <td>Yes</td>\n",
       "      <td>No</td>\n",
       "    </tr>\n",
       "  </tbody>\n",
       "</table>\n",
       "</div>"
      ],
      "text/plain": [
       "  Old_Therapy New_Therapy\n",
       "0         Yes          No\n",
       "1         Yes          No\n",
       "2         Yes          No\n",
       "3         Yes          No\n",
       "4         Yes          No\n",
       "5         Yes          No\n",
       "6         Yes          No\n",
       "7         Yes          No\n",
       "8          No          No\n",
       "9         Yes          No"
      ]
     },
     "execution_count": 32,
     "metadata": {},
     "output_type": "execute_result"
    }
   ],
   "source": [
    "depression_data.columns = [column.replace(\" \",\"_\") for column in depression_data.columns]\n",
    "depression_data.head(10)"
   ]
  },
  {
   "cell_type": "code",
   "execution_count": 33,
   "id": "41c8fcb0",
   "metadata": {},
   "outputs": [
    {
     "data": {
      "text/plain": [
       "Old_Therapy  New_Therapy\n",
       "Yes          No             37\n",
       "No           No              7\n",
       "Yes          Yes             4\n",
       "No           Yes             2\n",
       "dtype: int64"
      ]
     },
     "execution_count": 33,
     "metadata": {},
     "output_type": "execute_result"
    }
   ],
   "source": [
    "depression_data.value_counts()"
   ]
  },
  {
   "cell_type": "code",
   "execution_count": 34,
   "id": "7e1ac629",
   "metadata": {},
   "outputs": [
    {
     "name": "stdout",
     "output_type": "stream",
     "text": [
      "Old Therapy Depression level is 82.0 %\n"
     ]
    }
   ],
   "source": [
    "per_old_depression = 41/50*100\n",
    "print(\"Old Therapy Depression level is\",per_old_depression,\"%\")"
   ]
  },
  {
   "cell_type": "code",
   "execution_count": 35,
   "id": "3352fb43",
   "metadata": {},
   "outputs": [
    {
     "name": "stdout",
     "output_type": "stream",
     "text": [
      "New Therapy Depression level is 12.0 %\n"
     ]
    }
   ],
   "source": [
    "per_new_depression = 6/50*100\n",
    "print(\"New Therapy Depression level is\",per_new_depression,\"%\")"
   ]
  },
  {
   "cell_type": "code",
   "execution_count": 36,
   "id": "e046f0a5",
   "metadata": {},
   "outputs": [],
   "source": [
    "depressed_people_a, sample_size_a = (41, 50)\n",
    "depressed_people_b, sample_size_b = (6, 50)"
   ]
  },
  {
   "cell_type": "code",
   "execution_count": 37,
   "id": "a7109f52",
   "metadata": {},
   "outputs": [],
   "source": [
    "depressed_people = np.array([depressed_people_a, depressed_people_b])\n",
    "samples = np.array([sample_size_a, sample_size_b])"
   ]
  },
  {
   "cell_type": "code",
   "execution_count": 38,
   "id": "4a579c04",
   "metadata": {},
   "outputs": [
    {
     "data": {
      "text/plain": [
       "2.3387247876563156e-12"
      ]
     },
     "execution_count": 38,
     "metadata": {},
     "output_type": "execute_result"
    }
   ],
   "source": [
    "stat, p_value = proportions_ztest(count=depressed_people, nobs=samples, alternative='two-sided')\n",
    "p_value"
   ]
  },
  {
   "cell_type": "code",
   "execution_count": 39,
   "id": "d4d98213",
   "metadata": {},
   "outputs": [
    {
     "name": "stdout",
     "output_type": "stream",
     "text": [
      "We reject the Null Hypothesis and we can claim that there is a significant difference in the depression level with old therapy & new therapy, So people can feel less depressed with new therapy\n"
     ]
    }
   ],
   "source": [
    "#Level if significance - 5%. ie, At 5% level of significance, do we reject or not reject?\n",
    "if p_value<0.05:\n",
    "    print('We reject the Null Hypothesis and we can claim that there is a significant difference in the depression level with old therapy & new therapy, So people can feel less depressed with new therapy')\n",
    "else:\n",
    "    print('We do not reject the Null Hypothesis and we can claim that there is no significant difference in the depression level with old therapy & new therapy')"
   ]
  },
  {
   "cell_type": "markdown",
   "id": "23430a37",
   "metadata": {},
   "source": [
    "## 7. ANOVA (Analysis of Variance) Test\n",
    "### Example: Average between two data samples are significantly independent and different.\n"
   ]
  },
  {
   "cell_type": "markdown",
   "id": "b27cbf9e",
   "metadata": {},
   "source": [
    "### Hypothesis Formulation\n",
    "* H0: the mean between two samples are equal .\n",
    "* H1: the mean between two samples are not equal."
   ]
  },
  {
   "cell_type": "code",
   "execution_count": 40,
   "id": "3e21cdfa",
   "metadata": {},
   "outputs": [],
   "source": [
    "from scipy.stats import f_oneway"
   ]
  },
  {
   "cell_type": "code",
   "execution_count": 41,
   "id": "0fc2398a",
   "metadata": {},
   "outputs": [],
   "source": [
    "data1 = [0.873, 2.817, 0.121, -0.945, -0.055, -1.436, 0.360, -1.478, -1.637, -1.869]\n",
    "data2 = [1.142, -0.432, -0.938, -0.729, -0.846, -0.157, 0.500, 1.183, -1.075, -0.169]\n",
    "data3 = [-0.208, 0.696, 0.928, -1.148, -0.213, 0.229, 0.137, 0.269, -0.870, -1.204]"
   ]
  },
  {
   "cell_type": "code",
   "execution_count": 42,
   "id": "627c3b96",
   "metadata": {},
   "outputs": [
    {
     "data": {
      "text/plain": [
       "0.9083957433926546"
      ]
     },
     "execution_count": 42,
     "metadata": {},
     "output_type": "execute_result"
    }
   ],
   "source": [
    "stat, p_value = f_oneway(data1, data2, data3)\n",
    "p_value"
   ]
  },
  {
   "cell_type": "code",
   "execution_count": 43,
   "id": "1ef67662",
   "metadata": {},
   "outputs": [
    {
     "name": "stdout",
     "output_type": "stream",
     "text": [
      "Probably the same distribution\n"
     ]
    }
   ],
   "source": [
    "#Level if significance - 5%. ie, At 5% level of significance, do we reject or not reject?\n",
    "if p_value > 0.05:\n",
    "    print('Probably the same distribution')\n",
    "else:\n",
    "    print('Probably different distributions')"
   ]
  },
  {
   "cell_type": "markdown",
   "id": "747cac35",
   "metadata": {},
   "source": [
    "## II. Chi-squared Test\n",
    "\n",
    "* H0 : There is no association between Male species and female species.\n",
    "* Ha : Male species are more & female species are less (Statistically significant)."
   ]
  },
  {
   "cell_type": "code",
   "execution_count": 44,
   "id": "09fa79e5",
   "metadata": {},
   "outputs": [],
   "source": [
    "import seaborn as sns\n",
    "from seaborn import load_dataset"
   ]
  },
  {
   "cell_type": "code",
   "execution_count": 45,
   "id": "1db5528d",
   "metadata": {},
   "outputs": [
    {
     "data": {
      "text/plain": [
       "['anagrams',\n",
       " 'anscombe',\n",
       " 'attention',\n",
       " 'brain_networks',\n",
       " 'car_crashes',\n",
       " 'diamonds',\n",
       " 'dots',\n",
       " 'exercise',\n",
       " 'flights',\n",
       " 'fmri',\n",
       " 'gammas',\n",
       " 'geyser',\n",
       " 'iris',\n",
       " 'mpg',\n",
       " 'penguins',\n",
       " 'planets',\n",
       " 'taxis',\n",
       " 'tips',\n",
       " 'titanic']"
      ]
     },
     "execution_count": 45,
     "metadata": {},
     "output_type": "execute_result"
    }
   ],
   "source": [
    "sns.get_dataset_names()"
   ]
  },
  {
   "cell_type": "code",
   "execution_count": 46,
   "id": "ce376905",
   "metadata": {},
   "outputs": [
    {
     "data": {
      "text/html": [
       "<div>\n",
       "<style scoped>\n",
       "    .dataframe tbody tr th:only-of-type {\n",
       "        vertical-align: middle;\n",
       "    }\n",
       "\n",
       "    .dataframe tbody tr th {\n",
       "        vertical-align: top;\n",
       "    }\n",
       "\n",
       "    .dataframe thead th {\n",
       "        text-align: right;\n",
       "    }\n",
       "</style>\n",
       "<table border=\"1\" class=\"dataframe\">\n",
       "  <thead>\n",
       "    <tr style=\"text-align: right;\">\n",
       "      <th></th>\n",
       "      <th>species</th>\n",
       "      <th>island</th>\n",
       "      <th>bill_length_mm</th>\n",
       "      <th>bill_depth_mm</th>\n",
       "      <th>flipper_length_mm</th>\n",
       "      <th>body_mass_g</th>\n",
       "      <th>sex</th>\n",
       "    </tr>\n",
       "  </thead>\n",
       "  <tbody>\n",
       "    <tr>\n",
       "      <th>0</th>\n",
       "      <td>Adelie</td>\n",
       "      <td>Torgersen</td>\n",
       "      <td>39.1</td>\n",
       "      <td>18.7</td>\n",
       "      <td>181.0</td>\n",
       "      <td>3750.0</td>\n",
       "      <td>Male</td>\n",
       "    </tr>\n",
       "    <tr>\n",
       "      <th>1</th>\n",
       "      <td>Adelie</td>\n",
       "      <td>Torgersen</td>\n",
       "      <td>39.5</td>\n",
       "      <td>17.4</td>\n",
       "      <td>186.0</td>\n",
       "      <td>3800.0</td>\n",
       "      <td>Female</td>\n",
       "    </tr>\n",
       "    <tr>\n",
       "      <th>2</th>\n",
       "      <td>Adelie</td>\n",
       "      <td>Torgersen</td>\n",
       "      <td>40.3</td>\n",
       "      <td>18.0</td>\n",
       "      <td>195.0</td>\n",
       "      <td>3250.0</td>\n",
       "      <td>Female</td>\n",
       "    </tr>\n",
       "    <tr>\n",
       "      <th>3</th>\n",
       "      <td>Adelie</td>\n",
       "      <td>Torgersen</td>\n",
       "      <td>NaN</td>\n",
       "      <td>NaN</td>\n",
       "      <td>NaN</td>\n",
       "      <td>NaN</td>\n",
       "      <td>NaN</td>\n",
       "    </tr>\n",
       "    <tr>\n",
       "      <th>4</th>\n",
       "      <td>Adelie</td>\n",
       "      <td>Torgersen</td>\n",
       "      <td>36.7</td>\n",
       "      <td>19.3</td>\n",
       "      <td>193.0</td>\n",
       "      <td>3450.0</td>\n",
       "      <td>Female</td>\n",
       "    </tr>\n",
       "    <tr>\n",
       "      <th>...</th>\n",
       "      <td>...</td>\n",
       "      <td>...</td>\n",
       "      <td>...</td>\n",
       "      <td>...</td>\n",
       "      <td>...</td>\n",
       "      <td>...</td>\n",
       "      <td>...</td>\n",
       "    </tr>\n",
       "    <tr>\n",
       "      <th>339</th>\n",
       "      <td>Gentoo</td>\n",
       "      <td>Biscoe</td>\n",
       "      <td>NaN</td>\n",
       "      <td>NaN</td>\n",
       "      <td>NaN</td>\n",
       "      <td>NaN</td>\n",
       "      <td>NaN</td>\n",
       "    </tr>\n",
       "    <tr>\n",
       "      <th>340</th>\n",
       "      <td>Gentoo</td>\n",
       "      <td>Biscoe</td>\n",
       "      <td>46.8</td>\n",
       "      <td>14.3</td>\n",
       "      <td>215.0</td>\n",
       "      <td>4850.0</td>\n",
       "      <td>Female</td>\n",
       "    </tr>\n",
       "    <tr>\n",
       "      <th>341</th>\n",
       "      <td>Gentoo</td>\n",
       "      <td>Biscoe</td>\n",
       "      <td>50.4</td>\n",
       "      <td>15.7</td>\n",
       "      <td>222.0</td>\n",
       "      <td>5750.0</td>\n",
       "      <td>Male</td>\n",
       "    </tr>\n",
       "    <tr>\n",
       "      <th>342</th>\n",
       "      <td>Gentoo</td>\n",
       "      <td>Biscoe</td>\n",
       "      <td>45.2</td>\n",
       "      <td>14.8</td>\n",
       "      <td>212.0</td>\n",
       "      <td>5200.0</td>\n",
       "      <td>Female</td>\n",
       "    </tr>\n",
       "    <tr>\n",
       "      <th>343</th>\n",
       "      <td>Gentoo</td>\n",
       "      <td>Biscoe</td>\n",
       "      <td>49.9</td>\n",
       "      <td>16.1</td>\n",
       "      <td>213.0</td>\n",
       "      <td>5400.0</td>\n",
       "      <td>Male</td>\n",
       "    </tr>\n",
       "  </tbody>\n",
       "</table>\n",
       "<p>344 rows × 7 columns</p>\n",
       "</div>"
      ],
      "text/plain": [
       "    species     island  bill_length_mm  bill_depth_mm  flipper_length_mm  \\\n",
       "0    Adelie  Torgersen            39.1           18.7              181.0   \n",
       "1    Adelie  Torgersen            39.5           17.4              186.0   \n",
       "2    Adelie  Torgersen            40.3           18.0              195.0   \n",
       "3    Adelie  Torgersen             NaN            NaN                NaN   \n",
       "4    Adelie  Torgersen            36.7           19.3              193.0   \n",
       "..      ...        ...             ...            ...                ...   \n",
       "339  Gentoo     Biscoe             NaN            NaN                NaN   \n",
       "340  Gentoo     Biscoe            46.8           14.3              215.0   \n",
       "341  Gentoo     Biscoe            50.4           15.7              222.0   \n",
       "342  Gentoo     Biscoe            45.2           14.8              212.0   \n",
       "343  Gentoo     Biscoe            49.9           16.1              213.0   \n",
       "\n",
       "     body_mass_g     sex  \n",
       "0         3750.0    Male  \n",
       "1         3800.0  Female  \n",
       "2         3250.0  Female  \n",
       "3            NaN     NaN  \n",
       "4         3450.0  Female  \n",
       "..           ...     ...  \n",
       "339          NaN     NaN  \n",
       "340       4850.0  Female  \n",
       "341       5750.0    Male  \n",
       "342       5200.0  Female  \n",
       "343       5400.0    Male  \n",
       "\n",
       "[344 rows x 7 columns]"
      ]
     },
     "execution_count": 46,
     "metadata": {},
     "output_type": "execute_result"
    }
   ],
   "source": [
    "penguins_data = load_dataset('penguins')\n",
    "penguins_data"
   ]
  },
  {
   "cell_type": "code",
   "execution_count": 47,
   "id": "cd0f69cd",
   "metadata": {},
   "outputs": [
    {
     "data": {
      "text/html": [
       "<div>\n",
       "<style scoped>\n",
       "    .dataframe tbody tr th:only-of-type {\n",
       "        vertical-align: middle;\n",
       "    }\n",
       "\n",
       "    .dataframe tbody tr th {\n",
       "        vertical-align: top;\n",
       "    }\n",
       "\n",
       "    .dataframe thead th {\n",
       "        text-align: right;\n",
       "    }\n",
       "</style>\n",
       "<table border=\"1\" class=\"dataframe\">\n",
       "  <thead>\n",
       "    <tr style=\"text-align: right;\">\n",
       "      <th>species</th>\n",
       "      <th>Adelie</th>\n",
       "      <th>Chinstrap</th>\n",
       "      <th>Gentoo</th>\n",
       "    </tr>\n",
       "    <tr>\n",
       "      <th>sex</th>\n",
       "      <th></th>\n",
       "      <th></th>\n",
       "      <th></th>\n",
       "    </tr>\n",
       "  </thead>\n",
       "  <tbody>\n",
       "    <tr>\n",
       "      <th>Female</th>\n",
       "      <td>73</td>\n",
       "      <td>34</td>\n",
       "      <td>58</td>\n",
       "    </tr>\n",
       "    <tr>\n",
       "      <th>Male</th>\n",
       "      <td>73</td>\n",
       "      <td>34</td>\n",
       "      <td>61</td>\n",
       "    </tr>\n",
       "  </tbody>\n",
       "</table>\n",
       "</div>"
      ],
      "text/plain": [
       "species  Adelie  Chinstrap  Gentoo\n",
       "sex                               \n",
       "Female       73         34      58\n",
       "Male         73         34      61"
      ]
     },
     "execution_count": 47,
     "metadata": {},
     "output_type": "execute_result"
    }
   ],
   "source": [
    "import pandas as pd\n",
    "observed_table = pd.crosstab(index = penguins_data['sex'], columns = penguins_data['species'])#,margins=True)\n",
    "observed_table"
   ]
  },
  {
   "cell_type": "code",
   "execution_count": 48,
   "id": "3afee763",
   "metadata": {},
   "outputs": [
    {
     "name": "stdout",
     "output_type": "stream",
     "text": [
      "**************************************************************\n",
      "Chi-squared value :  0.04861\n",
      "P-val             :  0.97599\n",
      "Degree of Freedom :  2\n",
      "Expected Table    :\n",
      " [[72.34234234 33.69369369 58.96396396]\n",
      " [73.65765766 34.30630631 60.03603604]]\n"
     ]
    }
   ],
   "source": [
    "from scipy import stats\n",
    "chi2_score,pval,dof,expected_table = stats.chi2_contingency(observed = observed_table)\n",
    "print('**************************************************************')\n",
    "print('Chi-squared value : ',round(chi2_score,5))\n",
    "print('P-val             : ',round(pval,5))\n",
    "print('Degree of Freedom : ',dof)\n",
    "print('Expected Table    :\\n',expected_table)"
   ]
  },
  {
   "cell_type": "code",
   "execution_count": 49,
   "id": "ff44d2ca",
   "metadata": {},
   "outputs": [
    {
     "name": "stdout",
     "output_type": "stream",
     "text": [
      "We do not reject the Null Hypothesis and we can claim that there is no association between male penguins and female penguins.\n"
     ]
    }
   ],
   "source": [
    "#Level if significance - 10%. ie, At 10% level of significance, do we reject or not reject?\n",
    "if pval<0.1:\n",
    "    print('We can reject the Null Hypothesis and we can claim that there is a association between male penguins and female penguins.')\n",
    "else:\n",
    "    print('We do not reject the Null Hypothesis and we can claim that there is no association between male penguins and female penguins.')"
   ]
  },
  {
   "cell_type": "markdown",
   "id": "233f88b9",
   "metadata": {},
   "source": [
    "# THE END!!"
   ]
  }
 ],
 "metadata": {
  "kernelspec": {
   "display_name": "Python 3 (ipykernel)",
   "language": "python",
   "name": "python3"
  },
  "language_info": {
   "codemirror_mode": {
    "name": "ipython",
    "version": 3
   },
   "file_extension": ".py",
   "mimetype": "text/x-python",
   "name": "python",
   "nbconvert_exporter": "python",
   "pygments_lexer": "ipython3",
   "version": "3.9.12"
  }
 },
 "nbformat": 4,
 "nbformat_minor": 5
}
