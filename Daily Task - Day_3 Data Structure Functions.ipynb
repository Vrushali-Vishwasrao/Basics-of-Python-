{
 "cells": [
  {
   "cell_type": "markdown",
   "id": "a7321dbd",
   "metadata": {},
   "source": [
    "# List"
   ]
  },
  {
   "cell_type": "markdown",
   "id": "b464a362",
   "metadata": {},
   "source": [
    "## 1. append\n",
    "### Adds an element at the end of the list"
   ]
  },
  {
   "cell_type": "code",
   "execution_count": 39,
   "id": "9cab9674",
   "metadata": {},
   "outputs": [
    {
     "data": {
      "text/plain": [
       "['cloudy', 'rainbow', 'temp', 24.5]"
      ]
     },
     "execution_count": 39,
     "metadata": {},
     "output_type": "execute_result"
    }
   ],
   "source": [
    "rain = ['cloudy','rainbow','temp', 24.5]\n",
    "rain"
   ]
  },
  {
   "cell_type": "code",
   "execution_count": 37,
   "id": "8991ced7",
   "metadata": {},
   "outputs": [
    {
     "data": {
      "text/plain": [
       "['cloudy', 'rainbow', 'temp', 24.5, 'water']"
      ]
     },
     "execution_count": 37,
     "metadata": {},
     "output_type": "execute_result"
    }
   ],
   "source": [
    "rain.append('water')\n",
    "rain"
   ]
  },
  {
   "cell_type": "code",
   "execution_count": 38,
   "id": "54917314",
   "metadata": {},
   "outputs": [
    {
     "data": {
      "text/plain": [
       "['cloudy', 'rainbow', 'temp', 24.5, 'water', ['romantic', 24, 7, 'daily']]"
      ]
     },
     "execution_count": 38,
     "metadata": {},
     "output_type": "execute_result"
    }
   ],
   "source": [
    "songs = ['romantic',24,7,'daily']\n",
    "rain.append(songs)\n",
    "rain"
   ]
  },
  {
   "cell_type": "code",
   "execution_count": 44,
   "id": "ab99de05",
   "metadata": {},
   "outputs": [
    {
     "data": {
      "text/plain": [
       "[2, 4, 6, 8, 10, 12, 14, 16, 18, 20]"
      ]
     },
     "execution_count": 44,
     "metadata": {},
     "output_type": "execute_result"
    }
   ],
   "source": [
    "table_of_2 =[]\n",
    "for i in range(2,50,2):\n",
    "    if i > 20:\n",
    "        break\n",
    "    table_of_2.append(i)\n",
    "table_of_2"
   ]
  },
  {
   "cell_type": "markdown",
   "id": "2971fefa",
   "metadata": {},
   "source": [
    "## 2. clear\n",
    "### Removes all the elements from the list"
   ]
  },
  {
   "cell_type": "code",
   "execution_count": 46,
   "id": "2678c4d5",
   "metadata": {},
   "outputs": [
    {
     "data": {
      "text/plain": [
       "['pen', 'pencil', 'eraser', 'marker', 10, 20]"
      ]
     },
     "execution_count": 46,
     "metadata": {},
     "output_type": "execute_result"
    }
   ],
   "source": [
    "stationary = ['pen', 'pencil','eraser','marker',10,20]\n",
    "stationary"
   ]
  },
  {
   "cell_type": "code",
   "execution_count": 48,
   "id": "22df4a83",
   "metadata": {},
   "outputs": [
    {
     "data": {
      "text/plain": [
       "[]"
      ]
     },
     "execution_count": 48,
     "metadata": {},
     "output_type": "execute_result"
    }
   ],
   "source": [
    "stationary.clear()\n",
    "stationary"
   ]
  },
  {
   "cell_type": "markdown",
   "id": "a4c8f4c0",
   "metadata": {},
   "source": [
    "## 3. copy \n",
    "### Returns a copy of the list"
   ]
  },
  {
   "cell_type": "code",
   "execution_count": 51,
   "id": "3356a33c",
   "metadata": {},
   "outputs": [
    {
     "data": {
      "text/plain": [
       "['coconut', 'tulsi', 'papaya', 'mushroom', 'spinach', 5.7, 2022]"
      ]
     },
     "execution_count": 51,
     "metadata": {},
     "output_type": "execute_result"
    }
   ],
   "source": [
    "trees = ['coconut','tulsi','papaya','mushroom','spinach',5.7,2022]\n",
    "trees"
   ]
  },
  {
   "cell_type": "code",
   "execution_count": 53,
   "id": "9678b134",
   "metadata": {},
   "outputs": [
    {
     "data": {
      "text/plain": [
       "['coconut', 'tulsi', 'papaya', 'mushroom', 'spinach', 5.7, 2022]"
      ]
     },
     "execution_count": 53,
     "metadata": {},
     "output_type": "execute_result"
    }
   ],
   "source": [
    "my_trees = trees.copy()\n",
    "my_trees"
   ]
  },
  {
   "cell_type": "markdown",
   "id": "4a9380ac",
   "metadata": {},
   "source": [
    "## 4. count\n",
    "### Returns the number of elements with the specified value"
   ]
  },
  {
   "cell_type": "code",
   "execution_count": 110,
   "id": "a90e8867",
   "metadata": {},
   "outputs": [
    {
     "data": {
      "text/plain": [
       "2"
      ]
     },
     "execution_count": 110,
     "metadata": {},
     "output_type": "execute_result"
    }
   ],
   "source": [
    "docs = ['Aadhar Card','Pan Card','Election Card','Caste Validity','Caste Cerificate','Aadhar Card']\n",
    "docs.count('Aadhar Card')\n"
   ]
  },
  {
   "cell_type": "code",
   "execution_count": 111,
   "id": "4a397fe5",
   "metadata": {},
   "outputs": [
    {
     "data": {
      "text/plain": [
       "5"
      ]
     },
     "execution_count": 111,
     "metadata": {},
     "output_type": "execute_result"
    }
   ],
   "source": [
    "nums =[1,5,1,2,3,6,4,2,5,8,7,4,4,6,5,4,5,8,5,4]\n",
    "nums.count(4)"
   ]
  },
  {
   "cell_type": "markdown",
   "id": "92f46e16",
   "metadata": {},
   "source": [
    "## 5. extend\n",
    "### Add the elements of a list (or any iterable i.e list, set, tuple, etc.), to the end of the current list"
   ]
  },
  {
   "cell_type": "code",
   "execution_count": 112,
   "id": "c29cf101",
   "metadata": {},
   "outputs": [
    {
     "name": "stdout",
     "output_type": "stream",
     "text": [
      "[1, 2, 3, 4, 5, 6, 7, 8, 9, 10, '11th std', '12th std', 11, 12]\n"
     ]
    }
   ],
   "source": [
    "## with tuple\n",
    "school = [1,2,3,4,5,6,7,8,9,10]\n",
    "jr_college = ('11th std','12th std',11,12)\n",
    "school.extend(jr_college)\n",
    "print(school)"
   ]
  },
  {
   "cell_type": "code",
   "execution_count": 113,
   "id": "bd102e47",
   "metadata": {},
   "outputs": [
    {
     "name": "stdout",
     "output_type": "stream",
     "text": [
      "[1, 2, 3, 4, 5, 6, 7, 8, 9, 10, 'BSC', 'Engg', 'Pharmacy', 'B.com']\n"
     ]
    }
   ],
   "source": [
    "## with set\n",
    "school = [1,2,3,4,5,6,7,8,9,10]\n",
    "graduation = {'BSC','B.com','Engg','Pharmacy','B.com'}\n",
    "school.extend(graduation)\n",
    "print(school)"
   ]
  },
  {
   "cell_type": "code",
   "execution_count": 114,
   "id": "1664c514",
   "metadata": {},
   "outputs": [
    {
     "name": "stdout",
     "output_type": "stream",
     "text": [
      "['1BHK', '2BHK', '3BHK', 'House', 'Home', 'Villa', 'bedroom', 'kitchen', 'Hall']\n"
     ]
    }
   ],
   "source": [
    "#### with dictionary\n",
    "flats = ['1BHK','2BHK','3BHK','House','Home','Villa']\n",
    "rooms = {'bedroom':3,'kitchen':1,'Hall':1}\n",
    "toys = (1,2,3,4,5,6)\n",
    "flats.extend(rooms)\n",
    "print(flats)"
   ]
  },
  {
   "cell_type": "markdown",
   "id": "173f848b",
   "metadata": {},
   "source": [
    "## 6. index\n",
    "### Returns the index of the element with the specified value"
   ]
  },
  {
   "cell_type": "code",
   "execution_count": 115,
   "id": "cbb620df",
   "metadata": {},
   "outputs": [
    {
     "data": {
      "text/plain": [
       "4"
      ]
     },
     "execution_count": 115,
     "metadata": {},
     "output_type": "execute_result"
    }
   ],
   "source": [
    "cars = ['Wagnor','Kia','Mercedes','BMW','Tata','Maruti Suzuki']\n",
    "cars.index('Tata')"
   ]
  },
  {
   "cell_type": "code",
   "execution_count": 116,
   "id": "14add483",
   "metadata": {},
   "outputs": [
    {
     "data": {
      "text/plain": [
       "3"
      ]
     },
     "execution_count": 116,
     "metadata": {},
     "output_type": "execute_result"
    }
   ],
   "source": [
    "cars.index('BMW')"
   ]
  },
  {
   "cell_type": "code",
   "execution_count": 117,
   "id": "d72ddf7e",
   "metadata": {},
   "outputs": [
    {
     "data": {
      "text/plain": [
       "5"
      ]
     },
     "execution_count": 117,
     "metadata": {},
     "output_type": "execute_result"
    }
   ],
   "source": [
    "cars.index('Maruti Suzuki')"
   ]
  },
  {
   "cell_type": "markdown",
   "id": "7b8ebd08",
   "metadata": {},
   "source": [
    "## 7. insert\n",
    "### The insert() method inserts the specified value at the specified position."
   ]
  },
  {
   "cell_type": "code",
   "execution_count": 118,
   "id": "875508a0",
   "metadata": {},
   "outputs": [
    {
     "name": "stdout",
     "output_type": "stream",
     "text": [
      "[1, 2, 3, 4, 5, 6, 7, 8, 9, 10, 'joker', 'J', 'King', 'Queen']\n"
     ]
    }
   ],
   "source": [
    "cards = [1,2,3,4,5,6,7,8,9,10,'joker','J','Queen']\n",
    "cards.insert(12,'King')\n",
    "print(cards)\n"
   ]
  },
  {
   "cell_type": "markdown",
   "id": "b1f225a2",
   "metadata": {},
   "source": [
    "## 8. pop\n",
    "### The pop() method removes the element at the specified position."
   ]
  },
  {
   "cell_type": "code",
   "execution_count": 119,
   "id": "db2168c3",
   "metadata": {},
   "outputs": [
    {
     "name": "stdout",
     "output_type": "stream",
     "text": [
      "['Aadhar Card', 'Pan Card', 'Election Card', 'Caste Validity', 'Caste Cerificate', 'Aadhar Card']\n"
     ]
    }
   ],
   "source": [
    "print(docs)"
   ]
  },
  {
   "cell_type": "code",
   "execution_count": 120,
   "id": "2b204f3d",
   "metadata": {},
   "outputs": [
    {
     "name": "stdout",
     "output_type": "stream",
     "text": [
      "['Aadhar Card', 'Pan Card', 'Caste Validity', 'Caste Cerificate', 'Aadhar Card']\n"
     ]
    }
   ],
   "source": [
    "docs.pop(2)\n",
    "print(docs)"
   ]
  },
  {
   "cell_type": "code",
   "execution_count": 121,
   "id": "1d97c022",
   "metadata": {},
   "outputs": [
    {
     "name": "stdout",
     "output_type": "stream",
     "text": [
      "['Aadhar Card', 'Pan Card', 'Caste Validity', 'Caste Cerificate']\n"
     ]
    }
   ],
   "source": [
    "docs.pop(-1)\n",
    "print(docs)"
   ]
  },
  {
   "cell_type": "markdown",
   "id": "5845ca0e",
   "metadata": {},
   "source": [
    "## 9. remove\n",
    "### The remove() method removes the first occurrence of the element with the specified value."
   ]
  },
  {
   "cell_type": "code",
   "execution_count": 131,
   "id": "1cba08e2",
   "metadata": {},
   "outputs": [
    {
     "data": {
      "text/plain": [
       "['violin', 'gitar', 'piono', 'harmonium', 'tabla', 10, 20, 30]"
      ]
     },
     "execution_count": 131,
     "metadata": {},
     "output_type": "execute_result"
    }
   ],
   "source": [
    "instruments = ['violin','gitar','piono','harmonium','tabla',10,20,30]\n",
    "instruments"
   ]
  },
  {
   "cell_type": "code",
   "execution_count": 132,
   "id": "7d484882",
   "metadata": {},
   "outputs": [
    {
     "data": {
      "text/plain": [
       "['violin', 'gitar', 'piono', 'harmonium', 10, 20, 30]"
      ]
     },
     "execution_count": 132,
     "metadata": {},
     "output_type": "execute_result"
    }
   ],
   "source": [
    "instruments.remove('tabla')\n",
    "instruments"
   ]
  },
  {
   "cell_type": "code",
   "execution_count": 135,
   "id": "c483e828",
   "metadata": {},
   "outputs": [
    {
     "data": {
      "text/plain": [
       "['violin', 'gitar', 'piono', 'harmonium', 20, 30]"
      ]
     },
     "execution_count": 135,
     "metadata": {},
     "output_type": "execute_result"
    }
   ],
   "source": [
    "instruments.remove(10)\n",
    "instruments"
   ]
  },
  {
   "cell_type": "markdown",
   "id": "2f53c3f4",
   "metadata": {},
   "source": [
    "## 10. reverse\n",
    "### Reverses the order of the list"
   ]
  },
  {
   "cell_type": "code",
   "execution_count": 139,
   "id": "3bdee48b",
   "metadata": {},
   "outputs": [
    {
     "data": {
      "text/plain": [
       "['Bali', 'Andman', 'Switzerland', 'Manali', 'Kerala']"
      ]
     },
     "execution_count": 139,
     "metadata": {},
     "output_type": "execute_result"
    }
   ],
   "source": [
    "vacations = ['Bali','Andman','Switzerland','Manali','Kerala']\n",
    "vacations"
   ]
  },
  {
   "cell_type": "code",
   "execution_count": 140,
   "id": "c963faa5",
   "metadata": {},
   "outputs": [
    {
     "data": {
      "text/plain": [
       "['Kerala', 'Manali', 'Switzerland', 'Andman', 'Bali']"
      ]
     },
     "execution_count": 140,
     "metadata": {},
     "output_type": "execute_result"
    }
   ],
   "source": [
    "vacations.reverse()\n",
    "vacations"
   ]
  },
  {
   "cell_type": "markdown",
   "id": "41a8f2d0",
   "metadata": {},
   "source": [
    "## 11. sort\n",
    "### Sorts the list"
   ]
  },
  {
   "cell_type": "code",
   "execution_count": 141,
   "id": "b99d6b82",
   "metadata": {},
   "outputs": [
    {
     "data": {
      "text/plain": [
       "['Pune', 'Mumbai', 'Banglore', 'Chennai', 'Delhi']"
      ]
     },
     "execution_count": 141,
     "metadata": {},
     "output_type": "execute_result"
    }
   ],
   "source": [
    "cities = ['Pune','Mumbai','Banglore','Chennai','Delhi']\n",
    "cities"
   ]
  },
  {
   "cell_type": "code",
   "execution_count": 142,
   "id": "a0d9de67",
   "metadata": {},
   "outputs": [
    {
     "data": {
      "text/plain": [
       "['Banglore', 'Chennai', 'Delhi', 'Mumbai', 'Pune']"
      ]
     },
     "execution_count": 142,
     "metadata": {},
     "output_type": "execute_result"
    }
   ],
   "source": [
    "## sort the list in alphabetically \n",
    "cities.sort()\n",
    "cities"
   ]
  },
  {
   "cell_type": "code",
   "execution_count": 143,
   "id": "68a92eaf",
   "metadata": {},
   "outputs": [
    {
     "data": {
      "text/plain": [
       "['Pune', 'Mumbai', 'Delhi', 'Chennai', 'Banglore']"
      ]
     },
     "execution_count": 143,
     "metadata": {},
     "output_type": "execute_result"
    }
   ],
   "source": [
    "## sort the list in alphabetically in reverse order\n",
    "cities.sort(reverse=True)\n",
    "cities"
   ]
  },
  {
   "cell_type": "markdown",
   "id": "210cf085",
   "metadata": {},
   "source": [
    "# set"
   ]
  },
  {
   "cell_type": "markdown",
   "id": "18a4add2",
   "metadata": {},
   "source": [
    "## 1. add\n",
    "###  The add() method adds an element to the set.\n",
    "\n",
    "### If the element already exists, the add() method does not add the element."
   ]
  },
  {
   "cell_type": "code",
   "execution_count": 2,
   "id": "ae9de933",
   "metadata": {},
   "outputs": [
    {
     "data": {
      "text/plain": [
       "{'calcium', 'complete meal', 'protien', 'vitamins'}"
      ]
     },
     "execution_count": 2,
     "metadata": {},
     "output_type": "execute_result"
    }
   ],
   "source": [
    "milk = {'protien','calcium','vitamins','complete meal'}\n",
    "milk"
   ]
  },
  {
   "cell_type": "code",
   "execution_count": 4,
   "id": "c4b7a0db",
   "metadata": {},
   "outputs": [
    {
     "data": {
      "text/plain": [
       "{'calcium', 'complete meal', 'multivitamins', 'protien', 'vitamins'}"
      ]
     },
     "execution_count": 4,
     "metadata": {},
     "output_type": "execute_result"
    }
   ],
   "source": [
    "milk.add('multivitamins')\n",
    "milk"
   ]
  },
  {
   "cell_type": "markdown",
   "id": "48ac37b2",
   "metadata": {},
   "source": [
    "## 2. clear\n",
    "### \tRemoves all the elements from the set"
   ]
  },
  {
   "cell_type": "code",
   "execution_count": 5,
   "id": "a01215b3",
   "metadata": {},
   "outputs": [
    {
     "data": {
      "text/plain": [
       "{'glass', 'gold', 'iron', 'magnet', 'plastic'}"
      ]
     },
     "execution_count": 5,
     "metadata": {},
     "output_type": "execute_result"
    }
   ],
   "source": [
    "material = {'glass','plastic','gold','magnet','iron'}\n",
    "material"
   ]
  },
  {
   "cell_type": "code",
   "execution_count": 6,
   "id": "2a3b5dc7",
   "metadata": {},
   "outputs": [
    {
     "data": {
      "text/plain": [
       "set()"
      ]
     },
     "execution_count": 6,
     "metadata": {},
     "output_type": "execute_result"
    }
   ],
   "source": [
    "material.clear()\n",
    "material"
   ]
  },
  {
   "cell_type": "markdown",
   "id": "17c2abba",
   "metadata": {},
   "source": [
    "## 3. copy\n",
    "### The copy() method copies the set."
   ]
  },
  {
   "cell_type": "code",
   "execution_count": 12,
   "id": "8a7e9933",
   "metadata": {},
   "outputs": [
    {
     "name": "stdout",
     "output_type": "stream",
     "text": [
      "{'smart watch', 'smart bicycle', 'smart bulb'}\n"
     ]
    }
   ],
   "source": [
    "Iot_devices = {'smart watch','smart bicycle','smart bulb'}\n",
    "print(Iot_devices)\n"
   ]
  },
  {
   "cell_type": "code",
   "execution_count": 14,
   "id": "5d580683",
   "metadata": {},
   "outputs": [
    {
     "data": {
      "text/plain": [
       "{'smart bicycle', 'smart bulb', 'smart watch'}"
      ]
     },
     "execution_count": 14,
     "metadata": {},
     "output_type": "execute_result"
    }
   ],
   "source": [
    "smart_gadgets =Iot_devices.copy()\n",
    "smart_gadgets"
   ]
  },
  {
   "cell_type": "markdown",
   "id": "f2582663",
   "metadata": {},
   "source": [
    "## 4. difference\n",
    "### The returned set contains items that exist only in the first set, and not in both sets."
   ]
  },
  {
   "cell_type": "code",
   "execution_count": 16,
   "id": "92669122",
   "metadata": {},
   "outputs": [
    {
     "name": "stdout",
     "output_type": "stream",
     "text": [
      "{'NLP', 'ML', 'AI', 'DL', 'DS'}\n",
      "{'C', 'AI', 'PYTHON', 'C++', 'JAVA'}\n"
     ]
    }
   ],
   "source": [
    "technology = {'AI','ML','NLP','DS','DL'}\n",
    "LANG = {'AI','C','C++','JAVA','PYTHON'}\n",
    "print(technology)\n",
    "print(LANG)"
   ]
  },
  {
   "cell_type": "code",
   "execution_count": 19,
   "id": "c1f8ba2e",
   "metadata": {},
   "outputs": [
    {
     "data": {
      "text/plain": [
       "{'DL', 'DS', 'ML', 'NLP'}"
      ]
     },
     "execution_count": 19,
     "metadata": {},
     "output_type": "execute_result"
    }
   ],
   "source": [
    "technology.difference(LANG)"
   ]
  },
  {
   "cell_type": "markdown",
   "id": "51f68a91",
   "metadata": {},
   "source": [
    "## 5. difference_update\n",
    "### The difference_update() method removes the items that exist in both sets.\n",
    "\n",
    "### The difference_update() method is different from the difference() method, because the difference() method returns a new set, without the unwanted items, and the difference_update() method removes the unwanted items from the original set."
   ]
  },
  {
   "cell_type": "code",
   "execution_count": 21,
   "id": "f0c23a39",
   "metadata": {},
   "outputs": [
    {
     "name": "stdout",
     "output_type": "stream",
     "text": [
      "{'water', 'sugar', 'tea leaves', 'milk'}\n",
      "{'water', 'coffee beans', 'milk', 'sugar'}\n"
     ]
    }
   ],
   "source": [
    "tea = {'tea leaves','sugar','milk','water'}\n",
    "coffee = {'coffee beans','water','milk','sugar'}\n",
    "print(tea)\n",
    "print(coffee)\n"
   ]
  },
  {
   "cell_type": "code",
   "execution_count": 22,
   "id": "6e07e0c5",
   "metadata": {},
   "outputs": [
    {
     "name": "stdout",
     "output_type": "stream",
     "text": [
      "{'tea leaves'}\n"
     ]
    }
   ],
   "source": [
    "tea.difference_update(coffee)\n",
    "print(tea)"
   ]
  },
  {
   "cell_type": "code",
   "execution_count": 25,
   "id": "79622673",
   "metadata": {},
   "outputs": [
    {
     "name": "stdout",
     "output_type": "stream",
     "text": [
      "{'water', 'coffee beans', 'milk', 'sugar'}\n"
     ]
    }
   ],
   "source": [
    "coffee.difference_update(tea)\n",
    "print(coffee)"
   ]
  },
  {
   "cell_type": "code",
   "execution_count": 26,
   "id": "faaf642f",
   "metadata": {},
   "outputs": [],
   "source": [
    "#why?"
   ]
  },
  {
   "cell_type": "markdown",
   "id": "2721e40c",
   "metadata": {},
   "source": [
    "## 6. discard\n",
    "### The discard() method removes the specified item from the set.\n",
    "\n",
    "### This method is different from the remove() method, because the remove() method will raise an error if the specified item does not exist, and the discard() method will not."
   ]
  },
  {
   "cell_type": "code",
   "execution_count": 27,
   "id": "a78fb5c2",
   "metadata": {},
   "outputs": [
    {
     "data": {
      "text/plain": [
       "{'garbera', 'jasmine', 'lily', 'rose', 'tulip'}"
      ]
     },
     "execution_count": 27,
     "metadata": {},
     "output_type": "execute_result"
    }
   ],
   "source": [
    "flowers = {'rose','garbera','lily','jasmine','tulip'}\n",
    "flowers"
   ]
  },
  {
   "cell_type": "code",
   "execution_count": 29,
   "id": "afc91c55",
   "metadata": {},
   "outputs": [
    {
     "data": {
      "text/plain": [
       "{'jasmine', 'lily', 'rose', 'tulip'}"
      ]
     },
     "execution_count": 29,
     "metadata": {},
     "output_type": "execute_result"
    }
   ],
   "source": [
    "flowers.discard('garbera')\n",
    "flowers"
   ]
  },
  {
   "cell_type": "markdown",
   "id": "d21010bf",
   "metadata": {},
   "source": [
    "## 7. intersection\n",
    "### The returned set contains only items that exist in both sets, or in all sets if the comparison is done with more than two sets.\n",
    "\n"
   ]
  },
  {
   "cell_type": "code",
   "execution_count": 48,
   "id": "20489d35",
   "metadata": {},
   "outputs": [
    {
     "data": {
      "text/plain": [
       "{'decoration', 'guests', 'shopping'}"
      ]
     },
     "execution_count": 48,
     "metadata": {},
     "output_type": "execute_result"
    }
   ],
   "source": [
    "marriage = {'guests','shopping','mehendi','haldi','DJ','decoration'}\n",
    "ceremony = {'guests','shopping','mehendi','decoration'}\n",
    "birthday = {'decoration','gifts','guests','ballons','cakes','shopping'}\n",
    "function = marriage.intersection(ceremony,birthday)\n",
    "function"
   ]
  },
  {
   "cell_type": "markdown",
   "id": "9ba44421",
   "metadata": {},
   "source": [
    "## 8. intersection_update\n",
    "### The intersection_update() method is different from the intersection() method, because the intersection() method returns a new set, without the unwanted items, and the intersection_update() method removes the unwanted items from the original set."
   ]
  },
  {
   "cell_type": "code",
   "execution_count": 50,
   "id": "3663900e",
   "metadata": {},
   "outputs": [
    {
     "name": "stdout",
     "output_type": "stream",
     "text": [
      "{2}\n"
     ]
    }
   ],
   "source": [
    "nums = {1,2,3,4,5,6,7,8,9,10}\n",
    "even_nums = {2,4,6,8,10}\n",
    "prime_nums = {1,2,3,5,7}\n",
    "nums.intersection_update(even_nums,prime_nums)\n",
    "print(nums)"
   ]
  },
  {
   "cell_type": "markdown",
   "id": "bd056cdf",
   "metadata": {},
   "source": [
    "## 9. isdisjoint\n",
    "### The isdisjoint() method returns True if none of the items are present in both sets, otherwise it returns False."
   ]
  },
  {
   "cell_type": "code",
   "execution_count": 52,
   "id": "fc2679f4",
   "metadata": {},
   "outputs": [
    {
     "data": {
      "text/plain": [
       "False"
      ]
     },
     "execution_count": 52,
     "metadata": {},
     "output_type": "execute_result"
    }
   ],
   "source": [
    "social_media = {'facebook','meta','intsa','snapchat'}\n",
    "search_engines = {'Google','Yahoo','Bing','Wikipedia','facebook'}\n",
    "social_media.isdisjoint(search_engines)"
   ]
  },
  {
   "cell_type": "code",
   "execution_count": 53,
   "id": "16506010",
   "metadata": {},
   "outputs": [
    {
     "data": {
      "text/plain": [
       "True"
      ]
     },
     "execution_count": 53,
     "metadata": {},
     "output_type": "execute_result"
    }
   ],
   "source": [
    "social_media = {'facebook','meta','intsa','snapchat'}\n",
    "search_engines = {'Google','Yahoo','Bing','Wikipedia'}\n",
    "social_media.isdisjoint(search_engines)"
   ]
  },
  {
   "cell_type": "code",
   "execution_count": null,
   "id": "4fd0a352",
   "metadata": {},
   "outputs": [],
   "source": []
  }
 ],
 "metadata": {
  "kernelspec": {
   "display_name": "Python 3 (ipykernel)",
   "language": "python",
   "name": "python3"
  },
  "language_info": {
   "codemirror_mode": {
    "name": "ipython",
    "version": 3
   },
   "file_extension": ".py",
   "mimetype": "text/x-python",
   "name": "python",
   "nbconvert_exporter": "python",
   "pygments_lexer": "ipython3",
   "version": "3.9.12"
  }
 },
 "nbformat": 4,
 "nbformat_minor": 5
}
