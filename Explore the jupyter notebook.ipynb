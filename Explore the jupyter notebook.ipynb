{
 "cells": [
  {
   "cell_type": "markdown",
   "id": "71756a22",
   "metadata": {},
   "source": [
    "# Hands on Jupyter Notebook"
   ]
  },
  {
   "cell_type": "markdown",
   "id": "942dc328",
   "metadata": {},
   "source": [
    "## Practice for python"
   ]
  },
  {
   "cell_type": "markdown",
   "id": "11903546",
   "metadata": {},
   "source": [
    "### Chapter No 1"
   ]
  },
  {
   "cell_type": "markdown",
   "id": "85c0cefe",
   "metadata": {},
   "source": [
    "#### Love python"
   ]
  },
  {
   "cell_type": "markdown",
   "id": "aad90c77",
   "metadata": {},
   "source": [
    "##### Start with jupyter notebook"
   ]
  },
  {
   "cell_type": "markdown",
   "id": "32794bd6",
   "metadata": {},
   "source": [
    "###### Perfect Practice makes man perfect"
   ]
  },
  {
   "cell_type": "code",
   "execution_count": 2,
   "id": "297461be",
   "metadata": {},
   "outputs": [
    {
     "name": "stdout",
     "output_type": "stream",
     "text": [
      "You can do it Vrushali\n"
     ]
    }
   ],
   "source": [
    "print('You can do it Vrushali')"
   ]
  },
  {
   "cell_type": "code",
   "execution_count": null,
   "id": "fa82f8d0",
   "metadata": {},
   "outputs": [],
   "source": [
    "## Short KEys \n",
    "1. A= Insert cell above\n",
    "2. B= Insert cell below\n",
    "3. C= COPY cell\n",
    "4. D,D(Double Click)= Delete cell\n",
    "5. X= Cut cell\n",
    "6. Z= Undo selection\n",
    "7. V= Paste cell\n",
    "8. Shift+V= Paste above\n",
    "9. 1 to 6 = Headings in different sizes\n",
    "10. Alt+Enter= Go to next line in same cell\n",
    "11. Ctrl+Enter= Run the cell\n",
    "12. Shift+Enter= Run the cell & shift to the next cell"
   ]
  }
 ],
 "metadata": {
  "kernelspec": {
   "display_name": "Python 3 (ipykernel)",
   "language": "python",
   "name": "python3"
  },
  "language_info": {
   "codemirror_mode": {
    "name": "ipython",
    "version": 3
   },
   "file_extension": ".py",
   "mimetype": "text/x-python",
   "name": "python",
   "nbconvert_exporter": "python",
   "pygments_lexer": "ipython3",
   "version": "3.9.12"
  }
 },
 "nbformat": 4,
 "nbformat_minor": 5
}
