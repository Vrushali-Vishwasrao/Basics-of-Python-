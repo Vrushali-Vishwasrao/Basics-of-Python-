{
 "cells": [
  {
   "cell_type": "markdown",
   "id": "fc27a1b0",
   "metadata": {},
   "source": [
    "# 4 Python Data Structures:\n",
    "\n",
    "1. List\n",
    "2. Sets\n",
    "3. Tuple\n",
    "4. Dictionary"
   ]
  },
  {
   "cell_type": "markdown",
   "id": "edc3462e",
   "metadata": {},
   "source": [
    "# 1. List\n",
    "\n",
    "* 1Dimentional\n",
    "* Heterogenous\n",
    "* Allows duplicate values\n",
    "* Mutable\n",
    "* Indexable and sliceable"
   ]
  },
  {
   "cell_type": "code",
   "execution_count": 2,
   "id": "e08e0612",
   "metadata": {},
   "outputs": [],
   "source": [
    "empty_cart_1 = []"
   ]
  },
  {
   "cell_type": "code",
   "execution_count": 3,
   "id": "f90d744d",
   "metadata": {},
   "outputs": [
    {
     "data": {
      "text/plain": [
       "list"
      ]
     },
     "execution_count": 3,
     "metadata": {},
     "output_type": "execute_result"
    }
   ],
   "source": [
    "type(empty_cart_1)"
   ]
  },
  {
   "cell_type": "code",
   "execution_count": 6,
   "id": "e6bc77a3",
   "metadata": {},
   "outputs": [
    {
     "data": {
      "text/plain": [
       "['Apple',\n",
       " 'Banana',\n",
       " 'Orange',\n",
       " 'Grapes',\n",
       " 'Kiwi',\n",
       " 'strawberry',\n",
       " 'Oats',\n",
       " 'Milk',\n",
       " 'Apple',\n",
       " 'Kiwi']"
      ]
     },
     "execution_count": 6,
     "metadata": {},
     "output_type": "execute_result"
    }
   ],
   "source": [
    "item_to_buy_1 = ['Apple','Banana','Orange','Grapes','Kiwi','strawberry','Oats','Milk','Apple','Kiwi']\n",
    "item_to_buy_1"
   ]
  },
  {
   "cell_type": "code",
   "execution_count": 7,
   "id": "055a0ed8",
   "metadata": {},
   "outputs": [
    {
     "data": {
      "text/plain": [
       "list"
      ]
     },
     "execution_count": 7,
     "metadata": {},
     "output_type": "execute_result"
    }
   ],
   "source": [
    "type(item_to_buy_1)"
   ]
  },
  {
   "cell_type": "code",
   "execution_count": 8,
   "id": "ae17efce",
   "metadata": {},
   "outputs": [],
   "source": [
    "item_to_buy_1[2] = 'Almonds'  #Mutable/changable"
   ]
  },
  {
   "cell_type": "code",
   "execution_count": 9,
   "id": "54763be0",
   "metadata": {},
   "outputs": [
    {
     "data": {
      "text/plain": [
       "['Apple',\n",
       " 'Banana',\n",
       " 'Almonds',\n",
       " 'Grapes',\n",
       " 'Kiwi',\n",
       " 'strawberry',\n",
       " 'Oats',\n",
       " 'Milk',\n",
       " 'Apple',\n",
       " 'Kiwi']"
      ]
     },
     "execution_count": 9,
     "metadata": {},
     "output_type": "execute_result"
    }
   ],
   "source": [
    "item_to_buy_1"
   ]
  },
  {
   "cell_type": "code",
   "execution_count": 10,
   "id": "d94133e0",
   "metadata": {},
   "outputs": [
    {
     "data": {
      "text/plain": [
       "['Apple', 'Banana', 'Almonds', 'Grapes', 'Kiwi', 'strawberry', 'Oats', 'Milk']"
      ]
     },
     "execution_count": 10,
     "metadata": {},
     "output_type": "execute_result"
    }
   ],
   "source": [
    "item_to_buy_1[:-2]"
   ]
  },
  {
   "cell_type": "code",
   "execution_count": 24,
   "id": "144f64a9",
   "metadata": {},
   "outputs": [
    {
     "data": {
      "text/plain": [
       "['Apple',\n",
       " 'Banana',\n",
       " 'Almonds',\n",
       " 'Grapes',\n",
       " 'Kiwi',\n",
       " 'strawberry',\n",
       " 'Oats',\n",
       " 'Milk',\n",
       " 'Apple',\n",
       " 'Kiwi',\n",
       " 'Orange']"
      ]
     },
     "execution_count": 24,
     "metadata": {},
     "output_type": "execute_result"
    }
   ],
   "source": [
    "item_to_buy_1.append('Orange')\n",
    "item_to_buy_1"
   ]
  },
  {
   "cell_type": "code",
   "execution_count": 25,
   "id": "65265717",
   "metadata": {},
   "outputs": [
    {
     "data": {
      "text/plain": [
       "['Apple',\n",
       " 'Banana',\n",
       " 'Almonds',\n",
       " 'Grapes',\n",
       " 'Kiwi',\n",
       " 'strawberry',\n",
       " 'Oats',\n",
       " 'Milk',\n",
       " 'Apple',\n",
       " 'Kiwi',\n",
       " 'Orange']"
      ]
     },
     "execution_count": 25,
     "metadata": {},
     "output_type": "execute_result"
    }
   ],
   "source": [
    "scores = []\n",
    "\n",
    "for i in item_to_buy_1:\n",
    "    scores.append(i)\n",
    "    \n",
    "scores"
   ]
  },
  {
   "cell_type": "code",
   "execution_count": 27,
   "id": "a3dcbc50",
   "metadata": {},
   "outputs": [
    {
     "data": {
      "text/plain": [
       "[2, 6, 12, 20, 30, 42, 56, 72, 90, 110]"
      ]
     },
     "execution_count": 27,
     "metadata": {},
     "output_type": "execute_result"
    }
   ],
   "source": [
    "function = []\n",
    "\n",
    "num = 0\n",
    "for i in range(1,11):\n",
    "    num = num + i*2\n",
    "    function.append(num)\n",
    "\n",
    "function"
   ]
  },
  {
   "cell_type": "markdown",
   "id": "68f00f78",
   "metadata": {},
   "source": [
    "# 2. Sets\n",
    "\n",
    "* 1D\n",
    "* Heterogenous\n",
    "* Mutable\n",
    "* Not allows duplicate values\n",
    "* Not Indexable and Not Slicaeable"
   ]
  },
  {
   "cell_type": "code",
   "execution_count": 11,
   "id": "7a5acbf1",
   "metadata": {},
   "outputs": [],
   "source": [
    "# display of empty set\n",
    "\n",
    "empty_cart_2 = set()"
   ]
  },
  {
   "cell_type": "code",
   "execution_count": 12,
   "id": "25808069",
   "metadata": {},
   "outputs": [
    {
     "data": {
      "text/plain": [
       "set"
      ]
     },
     "execution_count": 12,
     "metadata": {},
     "output_type": "execute_result"
    }
   ],
   "source": [
    "type(empty_cart_2)"
   ]
  },
  {
   "cell_type": "code",
   "execution_count": 17,
   "id": "0d78537b",
   "metadata": {},
   "outputs": [
    {
     "data": {
      "text/plain": [
       "{'Apple', 'Banana', 'Grapes', 'Kiwi', 'Milk', 'Oats', 'Orange', 'strawberry'}"
      ]
     },
     "execution_count": 17,
     "metadata": {},
     "output_type": "execute_result"
    }
   ],
   "source": [
    "# Not allowing duplicates\n",
    "\n",
    "item_to_buy_2 = {'Apple','Banana','Orange','Grapes','Kiwi','strawberry','Oats','Milk','Apple','Kiwi'}\n",
    "item_to_buy_2"
   ]
  },
  {
   "cell_type": "code",
   "execution_count": 18,
   "id": "9b29dfdc",
   "metadata": {},
   "outputs": [
    {
     "ename": "TypeError",
     "evalue": "'set' object is not subscriptable",
     "output_type": "error",
     "traceback": [
      "\u001b[1;31m---------------------------------------------------------------------------\u001b[0m",
      "\u001b[1;31mTypeError\u001b[0m                                 Traceback (most recent call last)",
      "Input \u001b[1;32mIn [18]\u001b[0m, in \u001b[0;36m<cell line: 3>\u001b[1;34m()\u001b[0m\n\u001b[0;32m      1\u001b[0m \u001b[38;5;66;03m#\u001b[39;00m\n\u001b[1;32m----> 3\u001b[0m \u001b[43mitem_to_buy_2\u001b[49m\u001b[43m[\u001b[49m\u001b[38;5;241;43m2\u001b[39;49m\u001b[43m]\u001b[49m\n",
      "\u001b[1;31mTypeError\u001b[0m: 'set' object is not subscriptable"
     ]
    }
   ],
   "source": [
    "# Idexing is not possible\n",
    "\n",
    "item_to_buy_2[2]"
   ]
  },
  {
   "cell_type": "code",
   "execution_count": 19,
   "id": "bbb22f3b",
   "metadata": {},
   "outputs": [
    {
     "ename": "TypeError",
     "evalue": "'set' object is not subscriptable",
     "output_type": "error",
     "traceback": [
      "\u001b[1;31m---------------------------------------------------------------------------\u001b[0m",
      "\u001b[1;31mTypeError\u001b[0m                                 Traceback (most recent call last)",
      "Input \u001b[1;32mIn [19]\u001b[0m, in \u001b[0;36m<cell line: 3>\u001b[1;34m()\u001b[0m\n\u001b[0;32m      1\u001b[0m \u001b[38;5;66;03m# Slicing also not accesable\u001b[39;00m\n\u001b[1;32m----> 3\u001b[0m \u001b[43mempty_cart_2\u001b[49m\u001b[43m[\u001b[49m\u001b[38;5;241;43m2\u001b[39;49m\u001b[43m:\u001b[49m\u001b[43m]\u001b[49m\n",
      "\u001b[1;31mTypeError\u001b[0m: 'set' object is not subscriptable"
     ]
    }
   ],
   "source": [
    "# Slicing also not accesable\n",
    "\n",
    "empty_cart_2[2:]"
   ]
  },
  {
   "cell_type": "code",
   "execution_count": 20,
   "id": "6bd1233a",
   "metadata": {},
   "outputs": [
    {
     "ename": "TypeError",
     "evalue": "'set' object does not support item assignment",
     "output_type": "error",
     "traceback": [
      "\u001b[1;31m---------------------------------------------------------------------------\u001b[0m",
      "\u001b[1;31mTypeError\u001b[0m                                 Traceback (most recent call last)",
      "Input \u001b[1;32mIn [20]\u001b[0m, in \u001b[0;36m<cell line: 3>\u001b[1;34m()\u001b[0m\n\u001b[0;32m      1\u001b[0m \u001b[38;5;66;03m# Mutable but Error\u001b[39;00m\n\u001b[1;32m----> 3\u001b[0m item_to_buy_2[\u001b[38;5;241m2\u001b[39m] \u001b[38;5;241m=\u001b[39m \u001b[38;5;124m'\u001b[39m\u001b[38;5;124mOats\u001b[39m\u001b[38;5;124m'\u001b[39m\n",
      "\u001b[1;31mTypeError\u001b[0m: 'set' object does not support item assignment"
     ]
    }
   ],
   "source": [
    "# Mutable but Error\n",
    "\n",
    "item_to_buy_2[2] = 'Oats'"
   ]
  },
  {
   "cell_type": "code",
   "execution_count": 21,
   "id": "ff00b9a6",
   "metadata": {},
   "outputs": [
    {
     "data": {
      "text/plain": [
       "{'Apple', 'Banana', 'Grapes', 'Kiwi', 'Milk', 'Oats', 'Orange', 'strawberry'}"
      ]
     },
     "execution_count": 21,
     "metadata": {},
     "output_type": "execute_result"
    }
   ],
   "source": [
    "## Actual method \n",
    "\n",
    "item_to_buy_2.add('Oats')\n",
    "item_to_buy_2"
   ]
  },
  {
   "cell_type": "code",
   "execution_count": 23,
   "id": "d954263d",
   "metadata": {},
   "outputs": [
    {
     "data": {
      "text/plain": [
       "set()"
      ]
     },
     "execution_count": 23,
     "metadata": {},
     "output_type": "execute_result"
    }
   ],
   "source": [
    "item_to_buy_2.clear()\n",
    "item_to_buy_2"
   ]
  },
  {
   "cell_type": "markdown",
   "id": "f2c41bfc",
   "metadata": {},
   "source": [
    "# 3.Tuple\n",
    "\n",
    "* 1D\n",
    "* Heterogenous\n",
    "* Allows Duplicate values\n",
    "* Immutable\n",
    "* Indexable and Slicable"
   ]
  },
  {
   "cell_type": "code",
   "execution_count": 28,
   "id": "1a9e3a84",
   "metadata": {},
   "outputs": [],
   "source": [
    "# Display of tuple\n",
    "\n",
    "empty_cart_3 = ()"
   ]
  },
  {
   "cell_type": "code",
   "execution_count": 29,
   "id": "b9043c27",
   "metadata": {},
   "outputs": [
    {
     "data": {
      "text/plain": [
       "tuple"
      ]
     },
     "execution_count": 29,
     "metadata": {},
     "output_type": "execute_result"
    }
   ],
   "source": [
    "type(empty_cart_3)"
   ]
  },
  {
   "cell_type": "code",
   "execution_count": 30,
   "id": "e27c5994",
   "metadata": {},
   "outputs": [
    {
     "data": {
      "text/plain": [
       "('Apple',\n",
       " 'Banana',\n",
       " 'Orange',\n",
       " 'Grapes',\n",
       " 'Kiwi',\n",
       " 'strawberry',\n",
       " 'Oats',\n",
       " 'Milk',\n",
       " 'Apple',\n",
       " 'Kiwi')"
      ]
     },
     "execution_count": 30,
     "metadata": {},
     "output_type": "execute_result"
    }
   ],
   "source": [
    "# Not allowing duplicates \n",
    "# Default data structure in python\n",
    "# Allows duplicate values\n",
    "\n",
    "item_to_buy_3 = 'Apple','Banana','Orange','Grapes','Kiwi','strawberry','Oats','Milk','Apple','Kiwi'\n",
    "item_to_buy_3"
   ]
  },
  {
   "cell_type": "code",
   "execution_count": 31,
   "id": "a93ef5fe",
   "metadata": {},
   "outputs": [
    {
     "data": {
      "text/plain": [
       "'strawberry'"
      ]
     },
     "execution_count": 31,
     "metadata": {},
     "output_type": "execute_result"
    }
   ],
   "source": [
    "# Indexable\n",
    "\n",
    "item_to_buy_3[-5]"
   ]
  },
  {
   "cell_type": "code",
   "execution_count": 32,
   "id": "150f9b56",
   "metadata": {},
   "outputs": [
    {
     "data": {
      "text/plain": [
       "('Kiwi', 'strawberry', 'Oats', 'Milk', 'Apple')"
      ]
     },
     "execution_count": 32,
     "metadata": {},
     "output_type": "execute_result"
    }
   ],
   "source": [
    "item_to_buy_3[-6:-1]"
   ]
  },
  {
   "cell_type": "code",
   "execution_count": 35,
   "id": "7a4d27eb",
   "metadata": {},
   "outputs": [
    {
     "data": {
      "text/plain": [
       "('Kiwi', 'strawberry', 'Oats', 'Milk', 'Apple')"
      ]
     },
     "execution_count": 35,
     "metadata": {},
     "output_type": "execute_result"
    }
   ],
   "source": [
    "item_to_buy_3[4:-1]"
   ]
  },
  {
   "cell_type": "code",
   "execution_count": 36,
   "id": "306541c7",
   "metadata": {},
   "outputs": [
    {
     "ename": "TypeError",
     "evalue": "'tuple' object does not support item assignment",
     "output_type": "error",
     "traceback": [
      "\u001b[1;31m---------------------------------------------------------------------------\u001b[0m",
      "\u001b[1;31mTypeError\u001b[0m                                 Traceback (most recent call last)",
      "Input \u001b[1;32mIn [36]\u001b[0m, in \u001b[0;36m<cell line: 3>\u001b[1;34m()\u001b[0m\n\u001b[0;32m      1\u001b[0m \u001b[38;5;66;03m# Error\u001b[39;00m\n\u001b[1;32m----> 3\u001b[0m item_to_buy_3[\u001b[38;5;241m-\u001b[39m\u001b[38;5;241m4\u001b[39m] \u001b[38;5;241m=\u001b[39m \u001b[38;5;124m'\u001b[39m\u001b[38;5;124mCashews\u001b[39m\u001b[38;5;124m'\u001b[39m\n",
      "\u001b[1;31mTypeError\u001b[0m: 'tuple' object does not support item assignment"
     ]
    }
   ],
   "source": [
    "# Error\n",
    "\n",
    "item_to_buy_3[-4] = 'Cashews'"
   ]
  },
  {
   "cell_type": "code",
   "execution_count": 38,
   "id": "3398039a",
   "metadata": {},
   "outputs": [
    {
     "data": {
      "text/plain": [
       "2"
      ]
     },
     "execution_count": 38,
     "metadata": {},
     "output_type": "execute_result"
    }
   ],
   "source": [
    "item_to_buy_3.count('Apple')"
   ]
  },
  {
   "cell_type": "markdown",
   "id": "cae366dd",
   "metadata": {},
   "source": [
    "# 4. Dictionary:\n",
    "\n",
    "* 2D\n",
    "* Heterogenous\n",
    "* Allows duplicate values but not keys\n",
    "* Mutable\n",
    "* Not Indexable and not Slicable\n"
   ]
  },
  {
   "cell_type": "code",
   "execution_count": 39,
   "id": "c02eb21e",
   "metadata": {},
   "outputs": [],
   "source": [
    "#Display of Dict\n",
    "\n",
    "empty_cart_4 = {}"
   ]
  },
  {
   "cell_type": "code",
   "execution_count": 40,
   "id": "d8b94328",
   "metadata": {},
   "outputs": [
    {
     "data": {
      "text/plain": [
       "dict"
      ]
     },
     "execution_count": 40,
     "metadata": {},
     "output_type": "execute_result"
    }
   ],
   "source": [
    "type(empty_cart_4)"
   ]
  },
  {
   "cell_type": "code",
   "execution_count": 44,
   "id": "86b016d6",
   "metadata": {},
   "outputs": [
    {
     "data": {
      "text/plain": [
       "{'Apple': '3kg', 'Orange': '2kg'}"
      ]
     },
     "execution_count": 44,
     "metadata": {},
     "output_type": "execute_result"
    }
   ],
   "source": [
    "# Heterogenous\n",
    "\n",
    "item_to_buy_4 = {'Apple':'3kg',\n",
    "                 'Orange':'2kg'}\n",
    "item_to_buy_4"
   ]
  },
  {
   "cell_type": "code",
   "execution_count": 42,
   "id": "ae873f15",
   "metadata": {},
   "outputs": [
    {
     "data": {
      "text/plain": [
       "dict_keys(['Apple', 'Orange'])"
      ]
     },
     "execution_count": 42,
     "metadata": {},
     "output_type": "execute_result"
    }
   ],
   "source": [
    "item_to_buy_4.keys()"
   ]
  },
  {
   "cell_type": "code",
   "execution_count": 45,
   "id": "ac98220d",
   "metadata": {},
   "outputs": [
    {
     "data": {
      "text/plain": [
       "dict_values(['3kg', '2kg'])"
      ]
     },
     "execution_count": 45,
     "metadata": {},
     "output_type": "execute_result"
    }
   ],
   "source": [
    "item_to_buy_4.values()"
   ]
  },
  {
   "cell_type": "code",
   "execution_count": 47,
   "id": "e93e0efc",
   "metadata": {},
   "outputs": [
    {
     "data": {
      "text/plain": [
       "{'Apple': '2kg'}"
      ]
     },
     "execution_count": 47,
     "metadata": {},
     "output_type": "execute_result"
    }
   ],
   "source": [
    "# Dict may have duplicate values but not the keys \n",
    "# * If there is a duplicate keys it will overwrite it\n",
    "\n",
    "item_to_buy_4a = {'Apple':'3kg',\n",
    "                 'Apple':'2kg'}\n",
    "item_to_buy_4a"
   ]
  },
  {
   "cell_type": "markdown",
   "id": "de8e2d85",
   "metadata": {},
   "source": [
    "## Why Dict?"
   ]
  },
  {
   "cell_type": "code",
   "execution_count": 50,
   "id": "0c9ad2c9",
   "metadata": {},
   "outputs": [
    {
     "data": {
      "text/plain": [
       "{'Name': ['Krisha', 'Shreeja'], 'BatchNo': [13, 13]}"
      ]
     },
     "execution_count": 50,
     "metadata": {},
     "output_type": "execute_result"
    }
   ],
   "source": [
    "learner_details = {'Name'   :['Krisha','Shreeja'],\n",
    "                   'BatchNo': [13,13]             }\n",
    "learner_details"
   ]
  },
  {
   "cell_type": "code",
   "execution_count": 51,
   "id": "230be26b",
   "metadata": {},
   "outputs": [],
   "source": [
    "import pandas as pd"
   ]
  },
  {
   "cell_type": "code",
   "execution_count": 52,
   "id": "e9bb23d2",
   "metadata": {},
   "outputs": [
    {
     "data": {
      "text/html": [
       "<div>\n",
       "<style scoped>\n",
       "    .dataframe tbody tr th:only-of-type {\n",
       "        vertical-align: middle;\n",
       "    }\n",
       "\n",
       "    .dataframe tbody tr th {\n",
       "        vertical-align: top;\n",
       "    }\n",
       "\n",
       "    .dataframe thead th {\n",
       "        text-align: right;\n",
       "    }\n",
       "</style>\n",
       "<table border=\"1\" class=\"dataframe\">\n",
       "  <thead>\n",
       "    <tr style=\"text-align: right;\">\n",
       "      <th></th>\n",
       "      <th>Name</th>\n",
       "      <th>BatchNo</th>\n",
       "    </tr>\n",
       "  </thead>\n",
       "  <tbody>\n",
       "    <tr>\n",
       "      <th>0</th>\n",
       "      <td>Krisha</td>\n",
       "      <td>13</td>\n",
       "    </tr>\n",
       "    <tr>\n",
       "      <th>1</th>\n",
       "      <td>Shreeja</td>\n",
       "      <td>13</td>\n",
       "    </tr>\n",
       "  </tbody>\n",
       "</table>\n",
       "</div>"
      ],
      "text/plain": [
       "      Name  BatchNo\n",
       "0   Krisha       13\n",
       "1  Shreeja       13"
      ]
     },
     "execution_count": 52,
     "metadata": {},
     "output_type": "execute_result"
    }
   ],
   "source": [
    "pd.DataFrame(data = learner_details)"
   ]
  },
  {
   "cell_type": "markdown",
   "id": "89c27014",
   "metadata": {},
   "source": [
    "By using Dictionary we can create dataframe. so dict is necessary."
   ]
  },
  {
   "cell_type": "code",
   "execution_count": 53,
   "id": "04a0efff",
   "metadata": {},
   "outputs": [
    {
     "data": {
      "text/plain": [
       "{'Name': ['Krisha', 'Shreeja'], 'BatchNo': [13, 13]}"
      ]
     },
     "execution_count": 53,
     "metadata": {},
     "output_type": "execute_result"
    }
   ],
   "source": [
    "# Mutable, can be added, removed or changed\n",
    "\n",
    "learner_details"
   ]
  },
  {
   "cell_type": "code",
   "execution_count": 59,
   "id": "f21acd53",
   "metadata": {},
   "outputs": [
    {
     "data": {
      "text/plain": [
       "{'Name': ['Krisha', 'Shreeja'], 'BatchNo': [13, 13], 'Sharvi': 14}"
      ]
     },
     "execution_count": 59,
     "metadata": {},
     "output_type": "execute_result"
    }
   ],
   "source": [
    "learner_details['Sharvi'] = 14\n",
    "learner_details"
   ]
  },
  {
   "cell_type": "markdown",
   "id": "642d5e73",
   "metadata": {},
   "source": [
    "# THE END"
   ]
  }
 ],
 "metadata": {
  "kernelspec": {
   "display_name": "Python 3 (ipykernel)",
   "language": "python",
   "name": "python3"
  },
  "language_info": {
   "codemirror_mode": {
    "name": "ipython",
    "version": 3
   },
   "file_extension": ".py",
   "mimetype": "text/x-python",
   "name": "python",
   "nbconvert_exporter": "python",
   "pygments_lexer": "ipython3",
   "version": "3.9.12"
  }
 },
 "nbformat": 4,
 "nbformat_minor": 5
}
