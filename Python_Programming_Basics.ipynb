{
 "cells": [
  {
   "cell_type": "markdown",
   "id": "060437ba",
   "metadata": {},
   "source": [
    "# Chapter No.1 - First Python Programming"
   ]
  },
  {
   "cell_type": "markdown",
   "id": "b7868b0c",
   "metadata": {},
   "source": [
    "## 1.1 Hello World"
   ]
  },
  {
   "cell_type": "code",
   "execution_count": 1,
   "id": "96688f79",
   "metadata": {},
   "outputs": [
    {
     "name": "stdout",
     "output_type": "stream",
     "text": [
      "Welcome to the Data science World!!!\n"
     ]
    }
   ],
   "source": [
    "print('Welcome to the Data science World!!!') # print is a function"
   ]
  },
  {
   "cell_type": "code",
   "execution_count": 2,
   "id": "08ec03e5",
   "metadata": {},
   "outputs": [
    {
     "name": "stdout",
     "output_type": "stream",
     "text": [
      "Vrushali replied to Shivani that John's session is easy to understand.\n"
     ]
    }
   ],
   "source": [
    "# If statement has ' then use \" for open & close the statement.\n",
    "print(\"Vrushali replied to Shivani that John's session is easy to understand.\") "
   ]
  },
  {
   "cell_type": "code",
   "execution_count": 3,
   "id": "590b24f5",
   "metadata": {},
   "outputs": [
    {
     "name": "stdout",
     "output_type": "stream",
     "text": [
      "Subha replied,\"John's session is not to my expectation\".\n"
     ]
    }
   ],
   "source": [
    "# If ' & \" then use \"\"\" or '''\n",
    "print(\"\"\"Subha replied,\"John's session is not to my expectation\".\"\"\") "
   ]
  },
  {
   "cell_type": "code",
   "execution_count": 4,
   "id": "9b303621",
   "metadata": {},
   "outputs": [
    {
     "name": "stdout",
     "output_type": "stream",
     "text": [
      "Machine learning (ML) is a field of inquiry devoted to understanding and building methods that 'learn',\n",
      "      that is, methods that leverage data to improve performance on some set of tasks.[1] It is seen as a part of\n",
      "      artificial intelligence. Machine learning algorithms build a model based on sample data, known as training data, \n",
      "      in order to make predictions or decisions without being explicitly programmed to do so.[2] Machine learning \n",
      "      algorithms are used in a wide variety of applications, such as in medicine, email filtering, speech recognition, \n",
      "      and computer vision, where it is difficult or unfeasible to develop conventional algorithms to perform the needed \n",
      "      tasks.[3]\n"
     ]
    }
   ],
   "source": [
    "# If we have no. of lines then use \"\"\" \n",
    "print(\"\"\"Machine learning (ML) is a field of inquiry devoted to understanding and building methods that 'learn',\n",
    "      that is, methods that leverage data to improve performance on some set of tasks.[1] It is seen as a part of\n",
    "      artificial intelligence. Machine learning algorithms build a model based on sample data, known as training data, \n",
    "      in order to make predictions or decisions without being explicitly programmed to do so.[2] Machine learning \n",
    "      algorithms are used in a wide variety of applications, such as in medicine, email filtering, speech recognition, \n",
    "      and computer vision, where it is difficult or unfeasible to develop conventional algorithms to perform the needed \n",
    "      tasks.[3]\"\"\") "
   ]
  },
  {
   "cell_type": "code",
   "execution_count": 5,
   "id": "9a9a2aba",
   "metadata": {},
   "outputs": [
    {
     "name": "stdout",
     "output_type": "stream",
     "text": [
      "\"the is called god\"\n"
     ]
    }
   ],
   "source": [
    "print('''\"the is called god\"''')"
   ]
  },
  {
   "cell_type": "markdown",
   "id": "678de582",
   "metadata": {},
   "source": [
    "## 1.2 Create a variable\n",
    "\n",
    "* Index numbers starts from 0 to n in python\n",
    "* What is variable? The container where we can store the values\n",
    "* Why Variable? To perform functions, data slicing & Data manipulation & also Data Analysis."
   ]
  },
  {
   "cell_type": "code",
   "execution_count": 6,
   "id": "3baf315e",
   "metadata": {},
   "outputs": [
    {
     "data": {
      "text/plain": [
       "['Aditya', 'Ajith', 'Prathima', 'Satya', 'Anthony']"
      ]
     },
     "execution_count": 6,
     "metadata": {},
     "output_type": "execute_result"
    }
   ],
   "source": [
    "# participants is a variable\n",
    "participants = ['Aditya','Ajith','Prathima','Satya','Anthony'] #List is one of Data Structure\n",
    "participants"
   ]
  },
  {
   "cell_type": "code",
   "execution_count": 7,
   "id": "8793fc04",
   "metadata": {},
   "outputs": [
    {
     "data": {
      "text/plain": [
       "5"
      ]
     },
     "execution_count": 7,
     "metadata": {},
     "output_type": "execute_result"
    }
   ],
   "source": [
    "len(participants)"
   ]
  },
  {
   "cell_type": "code",
   "execution_count": 8,
   "id": "78322626",
   "metadata": {},
   "outputs": [
    {
     "data": {
      "text/plain": [
       "['Aditya', 'Ajith', 'Prathima', 'Satya', 'Anthony']"
      ]
     },
     "execution_count": 8,
     "metadata": {},
     "output_type": "execute_result"
    }
   ],
   "source": [
    "# Data Slicing\n",
    "participants[:]"
   ]
  },
  {
   "cell_type": "code",
   "execution_count": 9,
   "id": "4e49d627",
   "metadata": {},
   "outputs": [
    {
     "data": {
      "text/plain": [
       "['Ajith', 'Prathima', 'Satya', 'Anthony']"
      ]
     },
     "execution_count": 9,
     "metadata": {},
     "output_type": "execute_result"
    }
   ],
   "source": [
    "participants[1:]"
   ]
  },
  {
   "cell_type": "code",
   "execution_count": 10,
   "id": "164da225",
   "metadata": {},
   "outputs": [
    {
     "data": {
      "text/plain": [
       "['Ajith', 'Prathima', 'Satya']"
      ]
     },
     "execution_count": 10,
     "metadata": {},
     "output_type": "execute_result"
    }
   ],
   "source": [
    "# Its works with (n-1)\n",
    "participants[1:4]"
   ]
  },
  {
   "cell_type": "code",
   "execution_count": 11,
   "id": "04a33e29",
   "metadata": {},
   "outputs": [
    {
     "data": {
      "text/plain": [
       "['Aditya', 'Ajith', 'Vrushali', 'Satya', 'Anthony']"
      ]
     },
     "execution_count": 11,
     "metadata": {},
     "output_type": "execute_result"
    }
   ],
   "source": [
    "# Replacing the data using idex\n",
    "participants[2] = 'Vrushali'\n",
    "participants"
   ]
  },
  {
   "cell_type": "markdown",
   "id": "3655cb1e",
   "metadata": {},
   "source": [
    "# ============================================================"
   ]
  },
  {
   "cell_type": "markdown",
   "id": "6e3d046f",
   "metadata": {},
   "source": [
    "# Chapter 2 - String & String Methods\n",
    "\n",
    "### 3 Data Types in Python:\n",
    "\n",
    "1. Integer - int\n",
    "2. Float   - float\n",
    "3. String  - Anything which is enclosed within qoutes.\n"
   ]
  },
  {
   "cell_type": "markdown",
   "id": "b7c86e0f",
   "metadata": {},
   "source": [
    "## 2.1 What is String?"
   ]
  },
  {
   "cell_type": "code",
   "execution_count": 12,
   "id": "7c9191ac",
   "metadata": {},
   "outputs": [],
   "source": [
    "vrushali_avg_marks_1 = 99"
   ]
  },
  {
   "cell_type": "code",
   "execution_count": 13,
   "id": "8192e584",
   "metadata": {},
   "outputs": [
    {
     "data": {
      "text/plain": [
       "int"
      ]
     },
     "execution_count": 13,
     "metadata": {},
     "output_type": "execute_result"
    }
   ],
   "source": [
    "type(vrushali_avg_marks_1)"
   ]
  },
  {
   "cell_type": "code",
   "execution_count": 14,
   "id": "3d339c6a",
   "metadata": {},
   "outputs": [],
   "source": [
    "vrushali_avg_marks_2 = 99.5"
   ]
  },
  {
   "cell_type": "code",
   "execution_count": 15,
   "id": "aef12c38",
   "metadata": {},
   "outputs": [
    {
     "data": {
      "text/plain": [
       "float"
      ]
     },
     "execution_count": 15,
     "metadata": {},
     "output_type": "execute_result"
    }
   ],
   "source": [
    "type(vrushali_avg_marks_2)"
   ]
  },
  {
   "cell_type": "code",
   "execution_count": 16,
   "id": "c9c0c315",
   "metadata": {},
   "outputs": [],
   "source": [
    "#String\n",
    "vrushali_avg_marks_3 = '99.5'"
   ]
  },
  {
   "cell_type": "code",
   "execution_count": 17,
   "id": "3d27c8d1",
   "metadata": {},
   "outputs": [
    {
     "data": {
      "text/plain": [
       "str"
      ]
     },
     "execution_count": 17,
     "metadata": {},
     "output_type": "execute_result"
    }
   ],
   "source": [
    "type(vrushali_avg_marks_3)"
   ]
  },
  {
   "cell_type": "markdown",
   "id": "1f859fcf",
   "metadata": {},
   "source": [
    "## 2.2 Concatenation - Indexing - Slicing"
   ]
  },
  {
   "cell_type": "markdown",
   "id": "938f16a1",
   "metadata": {},
   "source": [
    "### Concatenation"
   ]
  },
  {
   "cell_type": "code",
   "execution_count": 20,
   "id": "be15aee0",
   "metadata": {},
   "outputs": [],
   "source": [
    "fname = 'Vrushali'\n",
    "lname = 'Jadhav'\n",
    "age   = 25"
   ]
  },
  {
   "cell_type": "code",
   "execution_count": 21,
   "id": "f728fc73",
   "metadata": {},
   "outputs": [
    {
     "data": {
      "text/plain": [
       "'Jadhav'"
      ]
     },
     "execution_count": 21,
     "metadata": {},
     "output_type": "execute_result"
    }
   ],
   "source": [
    "fname\n",
    "lname"
   ]
  },
  {
   "cell_type": "code",
   "execution_count": 22,
   "id": "06a58a31",
   "metadata": {},
   "outputs": [
    {
     "name": "stdout",
     "output_type": "stream",
     "text": [
      "Vrushali\n",
      "Jadhav\n"
     ]
    }
   ],
   "source": [
    "print(fname)\n",
    "print(lname)"
   ]
  },
  {
   "cell_type": "code",
   "execution_count": 23,
   "id": "768fba99",
   "metadata": {},
   "outputs": [
    {
     "name": "stdout",
     "output_type": "stream",
     "text": [
      "Vrushali Jadhav\n"
     ]
    }
   ],
   "source": [
    "print(fname + ' ' +lname)  # Concatenation"
   ]
  },
  {
   "cell_type": "code",
   "execution_count": 25,
   "id": "93f146d7",
   "metadata": {},
   "outputs": [
    {
     "ename": "TypeError",
     "evalue": "can only concatenate str (not \"int\") to str",
     "output_type": "error",
     "traceback": [
      "\u001b[1;31m---------------------------------------------------------------------------\u001b[0m",
      "\u001b[1;31mTypeError\u001b[0m                                 Traceback (most recent call last)",
      "Input \u001b[1;32mIn [25]\u001b[0m, in \u001b[0;36m<cell line: 2>\u001b[1;34m()\u001b[0m\n\u001b[0;32m      1\u001b[0m \u001b[38;5;66;03m#Error\u001b[39;00m\n\u001b[1;32m----> 2\u001b[0m \u001b[38;5;28mprint\u001b[39m(\u001b[43mfname\u001b[49m\u001b[43m \u001b[49m\u001b[38;5;241;43m+\u001b[39;49m\u001b[43m \u001b[49m\u001b[38;5;124;43m'\u001b[39;49m\u001b[38;5;124;43m \u001b[39;49m\u001b[38;5;124;43m'\u001b[39;49m\u001b[43m \u001b[49m\u001b[38;5;241;43m+\u001b[39;49m\u001b[43mlname\u001b[49m\u001b[43m \u001b[49m\u001b[38;5;241;43m+\u001b[39;49m\u001b[43m \u001b[49m\u001b[43mage\u001b[49m)\n",
      "\u001b[1;31mTypeError\u001b[0m: can only concatenate str (not \"int\") to str"
     ]
    }
   ],
   "source": [
    "#Error\n",
    "print(fname + ' ' +lname + age)  # Concatenation"
   ]
  },
  {
   "cell_type": "code",
   "execution_count": 26,
   "id": "f0375f71",
   "metadata": {},
   "outputs": [
    {
     "name": "stdout",
     "output_type": "stream",
     "text": [
      "Vrushali Jadhav 25\n"
     ]
    }
   ],
   "source": [
    "# To overcome the error\n",
    "print(fname + ' ' +lname + ' ' +str(age))  # Typecasting"
   ]
  },
  {
   "cell_type": "code",
   "execution_count": 28,
   "id": "c7a4b042",
   "metadata": {},
   "outputs": [
    {
     "name": "stdout",
     "output_type": "stream",
     "text": [
      "Vrushali Jadhav 25\n"
     ]
    }
   ],
   "source": [
    "print(fname,lname,age) # Here comma separated the input. Irrespective of datatypes."
   ]
  },
  {
   "cell_type": "markdown",
   "id": "598c1ed8",
   "metadata": {},
   "source": [
    "### Indexing\n",
    "\n",
    "* Indexing : Just Locating the values\n",
    "* Slicing : Doing Partitions with the help of range"
   ]
  },
  {
   "cell_type": "code",
   "execution_count": 29,
   "id": "cc5755dc",
   "metadata": {},
   "outputs": [
    {
     "data": {
      "text/plain": [
       "'Vrushali'"
      ]
     },
     "execution_count": 29,
     "metadata": {},
     "output_type": "execute_result"
    }
   ],
   "source": [
    "fname"
   ]
  },
  {
   "cell_type": "code",
   "execution_count": 30,
   "id": "dc896318",
   "metadata": {},
   "outputs": [
    {
     "data": {
      "text/plain": [
       "'rush'"
      ]
     },
     "execution_count": 30,
     "metadata": {},
     "output_type": "execute_result"
    }
   ],
   "source": [
    "fname[1:5] # Range"
   ]
  },
  {
   "cell_type": "code",
   "execution_count": 31,
   "id": "2b44bb53",
   "metadata": {},
   "outputs": [
    {
     "data": {
      "text/plain": [
       "'Vrushal'"
      ]
     },
     "execution_count": 31,
     "metadata": {},
     "output_type": "execute_result"
    }
   ],
   "source": [
    "fname[:-1] \n",
    "#fname[0:7]"
   ]
  },
  {
   "cell_type": "code",
   "execution_count": 32,
   "id": "4a2851e4",
   "metadata": {},
   "outputs": [
    {
     "data": {
      "text/plain": [
       "'Vrush'"
      ]
     },
     "execution_count": 32,
     "metadata": {},
     "output_type": "execute_result"
    }
   ],
   "source": [
    "fname[:-3]"
   ]
  },
  {
   "cell_type": "code",
   "execution_count": 33,
   "id": "9c8e9445",
   "metadata": {},
   "outputs": [
    {
     "data": {
      "text/plain": [
       "'Vuhl'"
      ]
     },
     "execution_count": 33,
     "metadata": {},
     "output_type": "execute_result"
    }
   ],
   "source": [
    "fname[::2]  ## Interval Of 2 with Double \":\""
   ]
  },
  {
   "cell_type": "code",
   "execution_count": 34,
   "id": "f579c385",
   "metadata": {},
   "outputs": [
    {
     "data": {
      "text/plain": [
       "'ilahsurV'"
      ]
     },
     "execution_count": 34,
     "metadata": {},
     "output_type": "execute_result"
    }
   ],
   "source": [
    "fname[::-1] # Reverse"
   ]
  },
  {
   "cell_type": "markdown",
   "id": "677f440c",
   "metadata": {},
   "source": [
    "### Slicing"
   ]
  },
  {
   "cell_type": "code",
   "execution_count": 35,
   "id": "2d779c41",
   "metadata": {},
   "outputs": [],
   "source": [
    "n = 1,2,3,4,5,6,7,8,9,10"
   ]
  },
  {
   "cell_type": "code",
   "execution_count": 36,
   "id": "f5e6aaac",
   "metadata": {},
   "outputs": [
    {
     "data": {
      "text/plain": [
       "tuple"
      ]
     },
     "execution_count": 36,
     "metadata": {},
     "output_type": "execute_result"
    }
   ],
   "source": [
    "type(n)"
   ]
  },
  {
   "cell_type": "code",
   "execution_count": 37,
   "id": "924d6483",
   "metadata": {},
   "outputs": [
    {
     "data": {
      "text/plain": [
       "(1, 5, 9)"
      ]
     },
     "execution_count": 37,
     "metadata": {},
     "output_type": "execute_result"
    }
   ],
   "source": [
    "n[::4]"
   ]
  },
  {
   "cell_type": "code",
   "execution_count": 38,
   "id": "c5f1dae3",
   "metadata": {},
   "outputs": [
    {
     "data": {
      "text/plain": [
       "(2, 6, 10)"
      ]
     },
     "execution_count": 38,
     "metadata": {},
     "output_type": "execute_result"
    }
   ],
   "source": [
    "# start with no. 2\n",
    "n[1::4]"
   ]
  },
  {
   "cell_type": "markdown",
   "id": "3bdbf81f",
   "metadata": {},
   "source": [
    "## 2.3 Manipulate String with Methods"
   ]
  },
  {
   "cell_type": "markdown",
   "id": "6e9ed030",
   "metadata": {},
   "source": [
    "### Terminology Alert:\n",
    "\n",
    "**Methods/Functions - Similar.** \n",
    "\n",
    "1. When anything which is enclosed within () is a function/method.\n",
    "2. It performs some operation on top of the variable.\n",
    "3. Function always do some operation in the backend"
   ]
  },
  {
   "cell_type": "code",
   "execution_count": 39,
   "id": "278726dd",
   "metadata": {},
   "outputs": [],
   "source": [
    "learner_1 = 'sarath'\n",
    "learner_2 = 'SHILPA'\n",
    "learner_3 = '    shine'\n",
    "learner_4 = '   vrushali    '"
   ]
  },
  {
   "cell_type": "code",
   "execution_count": 40,
   "id": "fa084c2a",
   "metadata": {},
   "outputs": [
    {
     "name": "stdout",
     "output_type": "stream",
     "text": [
      "6\n",
      "6\n",
      "9\n",
      "15\n"
     ]
    }
   ],
   "source": [
    "print(len(learner_1))\n",
    "print(len(learner_2))\n",
    "print(len(learner_3))\n",
    "print(len(learner_4))"
   ]
  },
  {
   "cell_type": "code",
   "execution_count": 41,
   "id": "53bec6f1",
   "metadata": {},
   "outputs": [
    {
     "data": {
      "text/plain": [
       "'Sarath'"
      ]
     },
     "execution_count": 41,
     "metadata": {},
     "output_type": "execute_result"
    }
   ],
   "source": [
    "str.capitalize(learner_1)"
   ]
  },
  {
   "cell_type": "code",
   "execution_count": 42,
   "id": "b00e4fcd",
   "metadata": {},
   "outputs": [
    {
     "data": {
      "text/plain": [
       "'Sarath'"
      ]
     },
     "execution_count": 42,
     "metadata": {},
     "output_type": "execute_result"
    }
   ],
   "source": [
    "learner_1.capitalize()"
   ]
  },
  {
   "cell_type": "code",
   "execution_count": 43,
   "id": "66fc5065",
   "metadata": {},
   "outputs": [
    {
     "data": {
      "text/plain": [
       "'shilpa'"
      ]
     },
     "execution_count": 43,
     "metadata": {},
     "output_type": "execute_result"
    }
   ],
   "source": [
    "learner_2.lower()"
   ]
  },
  {
   "cell_type": "code",
   "execution_count": 44,
   "id": "24e40653",
   "metadata": {},
   "outputs": [
    {
     "data": {
      "text/plain": [
       "'shine'"
      ]
     },
     "execution_count": 44,
     "metadata": {},
     "output_type": "execute_result"
    }
   ],
   "source": [
    "learner_3.strip() # or learner.lstrip()"
   ]
  },
  {
   "cell_type": "code",
   "execution_count": 45,
   "id": "2b630846",
   "metadata": {},
   "outputs": [
    {
     "data": {
      "text/plain": [
       "'shine'"
      ]
     },
     "execution_count": 45,
     "metadata": {},
     "output_type": "execute_result"
    }
   ],
   "source": [
    "learner_3.lstrip()"
   ]
  },
  {
   "cell_type": "code",
   "execution_count": 46,
   "id": "35cad14f",
   "metadata": {},
   "outputs": [
    {
     "data": {
      "text/plain": [
       "'VRUSHALI'"
      ]
     },
     "execution_count": 46,
     "metadata": {},
     "output_type": "execute_result"
    }
   ],
   "source": [
    "learner_4.upper().strip() # Chain Methods"
   ]
  },
  {
   "cell_type": "code",
   "execution_count": 47,
   "id": "b2f13966",
   "metadata": {},
   "outputs": [
    {
     "data": {
      "text/plain": [
       "'   vrushali    '"
      ]
     },
     "execution_count": 47,
     "metadata": {},
     "output_type": "execute_result"
    }
   ],
   "source": [
    "learner_4"
   ]
  },
  {
   "cell_type": "code",
   "execution_count": 48,
   "id": "4bee0a6b",
   "metadata": {},
   "outputs": [],
   "source": [
    "learner_1 = learner_1.capitalize()\n",
    "learner_2 = learner_2.lower()\n",
    "learner_3 = learner_3.lstrip()\n",
    "learner_4 = learner_4.strip().upper()"
   ]
  },
  {
   "cell_type": "code",
   "execution_count": 49,
   "id": "ea864edc",
   "metadata": {},
   "outputs": [
    {
     "name": "stdout",
     "output_type": "stream",
     "text": [
      "Sarath\n",
      "shilpa\n",
      "shine\n",
      "VRUSHALI\n"
     ]
    }
   ],
   "source": [
    "print(learner_1)\n",
    "print(learner_2)\n",
    "print(learner_3)\n",
    "print(learner_4)"
   ]
  },
  {
   "cell_type": "code",
   "execution_count": 50,
   "id": "b9bc1271",
   "metadata": {},
   "outputs": [
    {
     "data": {
      "text/plain": [
       "'sarath'"
      ]
     },
     "execution_count": 50,
     "metadata": {},
     "output_type": "execute_result"
    }
   ],
   "source": [
    "learner_1.casefold() # Parenthesis"
   ]
  },
  {
   "cell_type": "code",
   "execution_count": 51,
   "id": "de2de409",
   "metadata": {},
   "outputs": [
    {
     "data": {
      "text/plain": [
       "1"
      ]
     },
     "execution_count": 51,
     "metadata": {},
     "output_type": "execute_result"
    }
   ],
   "source": [
    "learner_4.count('A')"
   ]
  },
  {
   "cell_type": "markdown",
   "id": "0f91d66a",
   "metadata": {},
   "source": [
    "# ============================================================="
   ]
  },
  {
   "cell_type": "markdown",
   "id": "695f639b",
   "metadata": {},
   "source": [
    "## 2.4 Interact with User Inputs "
   ]
  },
  {
   "cell_type": "code",
   "execution_count": 52,
   "id": "6355e022",
   "metadata": {},
   "outputs": [
    {
     "name": "stdout",
     "output_type": "stream",
     "text": [
      "Password: Shreeja@14\n",
      "Password starts with S\n"
     ]
    }
   ],
   "source": [
    "user_input = input(\"Password: \")\n",
    "print('Password starts with',user_input[0])"
   ]
  },
  {
   "cell_type": "markdown",
   "id": "f4b85b46",
   "metadata": {},
   "source": [
    "## 2.5 Get 2 inputs from the user and display it."
   ]
  },
  {
   "cell_type": "code",
   "execution_count": 1,
   "id": "b94457e5",
   "metadata": {},
   "outputs": [
    {
     "name": "stdout",
     "output_type": "stream",
     "text": [
      "Enter your name: Vrushali\n",
      "Enter your Company name: Google\n",
      "********************************************\n",
      "My name is Vrushali\n",
      "My Workstation is Google\n"
     ]
    }
   ],
   "source": [
    "user_name = input('Enter your name: ')\n",
    "user_company = input('Enter your Company name: ')\n",
    "print('********************************************')\n",
    "print('My name is',user_name)\n",
    "print('My Workstation is',user_company)"
   ]
  },
  {
   "cell_type": "code",
   "execution_count": 2,
   "id": "96076d71",
   "metadata": {},
   "outputs": [
    {
     "name": "stdout",
     "output_type": "stream",
     "text": [
      "My name is Vrushali My Workstation is Google\n"
     ]
    }
   ],
   "source": [
    "print('My name is',user_name, 'My Workstation is',user_company)"
   ]
  },
  {
   "cell_type": "code",
   "execution_count": 3,
   "id": "44f55814",
   "metadata": {},
   "outputs": [
    {
     "name": "stdout",
     "output_type": "stream",
     "text": [
      "My name is Vrushali \n",
      "My Workstation is Google\n"
     ]
    }
   ],
   "source": [
    "# Using Escape Operators\n",
    "print('My name is',user_name, '\\nMy Workstation is',user_company)"
   ]
  },
  {
   "cell_type": "markdown",
   "id": "3eb71bf6",
   "metadata": {},
   "source": [
    "## 2.6 Streamline the print statement"
   ]
  },
  {
   "cell_type": "code",
   "execution_count": 4,
   "id": "a7e281cd",
   "metadata": {},
   "outputs": [
    {
     "name": "stdout",
     "output_type": "stream",
     "text": [
      "Name - Vrushali and Company Name - Google\n"
     ]
    }
   ],
   "source": [
    "print('Name - {} and Company Name - {}'.format(user_name,user_company)) # Placeholders"
   ]
  },
  {
   "cell_type": "code",
   "execution_count": 5,
   "id": "f0c4c2b1",
   "metadata": {},
   "outputs": [
    {
     "name": "stdout",
     "output_type": "stream",
     "text": [
      "Name - Google \n",
      "Company Name is Vrushali\n"
     ]
    }
   ],
   "source": [
    "print('Name - {} \\nCompany Name is {}'.format(user_company,user_name)) #Mistake"
   ]
  },
  {
   "cell_type": "code",
   "execution_count": 6,
   "id": "8349e2cf",
   "metadata": {},
   "outputs": [
    {
     "name": "stdout",
     "output_type": "stream",
     "text": [
      "Name - Vrushali \n",
      "Company Name is Google\n"
     ]
    }
   ],
   "source": [
    "print('Name - {name} \\nCompany Name is {company}'.format(company = user_company,name = user_name)) #Placeholders"
   ]
  },
  {
   "cell_type": "markdown",
   "id": "cc6ed5ed",
   "metadata": {},
   "source": [
    "# ============================================================="
   ]
  },
  {
   "cell_type": "markdown",
   "id": "cdb96a99",
   "metadata": {},
   "source": [
    "## Chapter 3 - Numbers in Python"
   ]
  },
  {
   "cell_type": "code",
   "execution_count": 10,
   "id": "b603686e",
   "metadata": {},
   "outputs": [
    {
     "name": "stdout",
     "output_type": "stream",
     "text": [
      "Enter your marks:-100\n",
      "The marks you entered is -100\n"
     ]
    }
   ],
   "source": [
    "user_marks = input('Enter your marks:')\n",
    "\n",
    "print('The marks you entered is',user_marks)"
   ]
  },
  {
   "cell_type": "code",
   "execution_count": 11,
   "id": "198f6e53",
   "metadata": {},
   "outputs": [
    {
     "data": {
      "text/plain": [
       "str"
      ]
     },
     "execution_count": 11,
     "metadata": {},
     "output_type": "execute_result"
    }
   ],
   "source": [
    "type(user_marks)"
   ]
  },
  {
   "cell_type": "code",
   "execution_count": 12,
   "id": "97c6fed8",
   "metadata": {},
   "outputs": [
    {
     "name": "stdout",
     "output_type": "stream",
     "text": [
      "Enter your marks:-100\n",
      "The marks you entered is 100\n"
     ]
    }
   ],
   "source": [
    "#printing only positive nos only using modulus/absolute vale\n",
    "\n",
    "user_marks1 = int(input('Enter your marks:'))\n",
    "\n",
    "print('The marks you entered is',abs(user_marks1))"
   ]
  },
  {
   "cell_type": "code",
   "execution_count": 14,
   "id": "288de452",
   "metadata": {},
   "outputs": [
    {
     "data": {
      "text/plain": [
       "int"
      ]
     },
     "execution_count": 14,
     "metadata": {},
     "output_type": "execute_result"
    }
   ],
   "source": [
    "type(user_marks1)"
   ]
  },
  {
   "cell_type": "markdown",
   "id": "75405f76",
   "metadata": {},
   "source": [
    "# ============================================================="
   ]
  },
  {
   "cell_type": "markdown",
   "id": "d04791be",
   "metadata": {},
   "source": [
    "# Chapter 4 - Functions and Loops"
   ]
  },
  {
   "cell_type": "markdown",
   "id": "2ba44b3e",
   "metadata": {},
   "source": [
    "### 3 types of Functions:"
   ]
  },
  {
   "cell_type": "markdown",
   "id": "bbc00eb4",
   "metadata": {},
   "source": [
    "### 3 types of Functions:\n",
    "\n",
    "* **Predefined Functions/Builtin functions** - which will get automatically installed into your local machine when we install anaconda navigator.\n",
    "* **Userdefined functions** - user given functions, according to his own preferences - it is customizable function.\n",
    "* **Anonymous functions**   - it is a nameless function, which is used for accomplish one operation at once. \n",
    "   \n"
   ]
  },
  {
   "cell_type": "markdown",
   "id": "aa971210",
   "metadata": {},
   "source": [
    "### 4.1 Write your Own Functions"
   ]
  },
  {
   "cell_type": "code",
   "execution_count": 16,
   "id": "99c1c2f1",
   "metadata": {},
   "outputs": [],
   "source": [
    "#Step1 - Define yoyr function\n",
    "#Step2 - Call your function "
   ]
  },
  {
   "cell_type": "code",
   "execution_count": 18,
   "id": "cc8afdb3",
   "metadata": {},
   "outputs": [],
   "source": [
    "def get_message():\n",
    "    print('Welcome Back!!')\n",
    "    print(\"Let's Rock\")"
   ]
  },
  {
   "cell_type": "code",
   "execution_count": 19,
   "id": "0fdf7cfa",
   "metadata": {},
   "outputs": [
    {
     "name": "stdout",
     "output_type": "stream",
     "text": [
      "Welcome Back!!\n",
      "Let's Rock\n"
     ]
    }
   ],
   "source": [
    "get_message()"
   ]
  },
  {
   "cell_type": "markdown",
   "id": "e8df78b0",
   "metadata": {},
   "source": [
    "# ============================================================="
   ]
  },
  {
   "cell_type": "code",
   "execution_count": 22,
   "id": "102a3ad3",
   "metadata": {},
   "outputs": [],
   "source": [
    "def perform_addition(num1,num2,num3,num4):  # Arguments\n",
    "    print(num1+num2+num3+num4)"
   ]
  },
  {
   "cell_type": "code",
   "execution_count": 23,
   "id": "9de8c31f",
   "metadata": {},
   "outputs": [
    {
     "name": "stdout",
     "output_type": "stream",
     "text": [
      "263\n"
     ]
    }
   ],
   "source": [
    "perform_addition(10,87,110,56) # passing parameters"
   ]
  },
  {
   "cell_type": "code",
   "execution_count": 26,
   "id": "e7b89c87",
   "metadata": {},
   "outputs": [
    {
     "name": "stdout",
     "output_type": "stream",
     "text": [
      "1858\n"
     ]
    }
   ],
   "source": [
    "perform_addition(115,809,275,659)"
   ]
  },
  {
   "cell_type": "markdown",
   "id": "8e527d28",
   "metadata": {},
   "source": [
    "### Position Arguments"
   ]
  },
  {
   "cell_type": "code",
   "execution_count": 34,
   "id": "12e8aa42",
   "metadata": {},
   "outputs": [],
   "source": [
    "def get_details(learner_name,learner_age,batch_no):\n",
    "    print('Learner Name:',learner_name)\n",
    "    print('Age         :',learner_age)\n",
    "    print('Batch No    :',batch_no)"
   ]
  },
  {
   "cell_type": "code",
   "execution_count": 35,
   "id": "c28ab9cf",
   "metadata": {},
   "outputs": [
    {
     "name": "stdout",
     "output_type": "stream",
     "text": [
      "Learner Name: Prathima\n",
      "Age         : 28\n",
      "Batch No    : 17\n"
     ]
    }
   ],
   "source": [
    "get_details('Prathima',28,17)"
   ]
  },
  {
   "cell_type": "code",
   "execution_count": 36,
   "id": "1b2c33e2",
   "metadata": {},
   "outputs": [],
   "source": [
    "def get_details(learner_age,learner_name,batch_no):\n",
    "    print('Learner Name:',learner_name)\n",
    "    print('Age         :',learner_age)\n",
    "    print('Batch No    :',batch_no)"
   ]
  },
  {
   "cell_type": "code",
   "execution_count": 37,
   "id": "0409299c",
   "metadata": {},
   "outputs": [
    {
     "name": "stdout",
     "output_type": "stream",
     "text": [
      "Learner Name: 28\n",
      "Age         : Prathima\n",
      "Batch No    : 17\n"
     ]
    }
   ],
   "source": [
    "get_details('Prathima',28,17) # Position Matters here"
   ]
  },
  {
   "cell_type": "code",
   "execution_count": 38,
   "id": "1d3a26e0",
   "metadata": {
    "scrolled": true
   },
   "outputs": [
    {
     "name": "stdout",
     "output_type": "stream",
     "text": [
      "Learner Name: Vrushali\n",
      "Age         : 29\n",
      "Batch No    : 9\n"
     ]
    }
   ],
   "source": [
    "get_details(learner_name ='Vrushali',learner_age = 29,batch_no = 9)"
   ]
  },
  {
   "cell_type": "code",
   "execution_count": 2,
   "id": "bcb69246",
   "metadata": {},
   "outputs": [],
   "source": [
    "def get_employee_details(name,age,salary,organization):\n",
    "    print('***********************************')\n",
    "    print('Name     :',name)\n",
    "    print('Age      :',age)\n",
    "    print('Salary   :',salary)\n",
    "    print('Workplace:',organization)\n",
    "    print('***********************************')"
   ]
  },
  {
   "cell_type": "code",
   "execution_count": null,
   "id": "bb84527e",
   "metadata": {},
   "outputs": [],
   "source": []
  },
  {
   "cell_type": "code",
   "execution_count": 3,
   "id": "4469c093",
   "metadata": {},
   "outputs": [
    {
     "name": "stdout",
     "output_type": "stream",
     "text": [
      "***********************************\n",
      "Name     : Vrushali\n",
      "Age      : 24\n",
      "Salary   : 100000\n",
      "Workplace: Google\n",
      "***********************************\n"
     ]
    }
   ],
   "source": [
    "get_employee_details('Vrushali',24,100000,'Google')"
   ]
  },
  {
   "cell_type": "code",
   "execution_count": 4,
   "id": "76061948",
   "metadata": {},
   "outputs": [
    {
     "name": "stdout",
     "output_type": "stream",
     "text": [
      "***********************************\n",
      "Name     : Shreeja\n",
      "Age      : 20\n",
      "Salary   : 150000\n",
      "Workplace: Google\n",
      "***********************************\n"
     ]
    }
   ],
   "source": [
    "get_employee_details('Shreeja',20,150000,'Google')"
   ]
  },
  {
   "cell_type": "code",
   "execution_count": 6,
   "id": "854068e9",
   "metadata": {},
   "outputs": [
    {
     "name": "stdout",
     "output_type": "stream",
     "text": [
      "***********************************\n",
      "Name     : John\n",
      "Age      : 32\n",
      "Salary   : 250000\n",
      "Workplace: Google\n",
      "***********************************\n"
     ]
    }
   ],
   "source": [
    "get_employee_details('John',32, 250000,'Google')"
   ]
  },
  {
   "cell_type": "markdown",
   "id": "95167031",
   "metadata": {},
   "source": [
    "### Default Arguments"
   ]
  },
  {
   "cell_type": "code",
   "execution_count": 14,
   "id": "6a9eb29c",
   "metadata": {},
   "outputs": [],
   "source": [
    "def get_employee_details1(name,age,salary,organization = 'Google'):\n",
    "    print('***********************************')\n",
    "    print('Name     :',name)\n",
    "    print('Age      :',age)\n",
    "    print('Salary   :',salary)\n",
    "    print('Workplace:',organization)\n",
    "    print('***********************************')"
   ]
  },
  {
   "cell_type": "code",
   "execution_count": 15,
   "id": "1afcb7a7",
   "metadata": {},
   "outputs": [
    {
     "name": "stdout",
     "output_type": "stream",
     "text": [
      "***********************************\n",
      "Name     : Vrushali\n",
      "Age      : 24\n",
      "Salary   : 100000\n",
      "Workplace: Google\n",
      "***********************************\n"
     ]
    }
   ],
   "source": [
    "get_employee_details1('Vrushali',24,100000)"
   ]
  },
  {
   "cell_type": "code",
   "execution_count": 16,
   "id": "f3de5ded",
   "metadata": {},
   "outputs": [
    {
     "name": "stdout",
     "output_type": "stream",
     "text": [
      "***********************************\n",
      "Name     : Shreeja\n",
      "Age      : 20\n",
      "Salary   : 150000\n",
      "Workplace: Google\n",
      "***********************************\n"
     ]
    }
   ],
   "source": [
    "get_employee_details1('Shreeja',20,150000)"
   ]
  },
  {
   "cell_type": "code",
   "execution_count": 18,
   "id": "1807258a",
   "metadata": {},
   "outputs": [
    {
     "name": "stdout",
     "output_type": "stream",
     "text": [
      "***********************************\n",
      "Name     : John\n",
      "Age      : 32\n",
      "Salary   : 250000\n",
      "Workplace: IBM\n",
      "***********************************\n"
     ]
    }
   ],
   "source": [
    "get_employee_details1('John',32, 250000,'IBM')"
   ]
  },
  {
   "cell_type": "markdown",
   "id": "d0aab9ad",
   "metadata": {},
   "source": [
    "### Get inputs from the user in an udf"
   ]
  },
  {
   "cell_type": "code",
   "execution_count": 21,
   "id": "59bf85cc",
   "metadata": {},
   "outputs": [],
   "source": [
    "def get_employee_details_2():\n",
    "    print('***********************************')\n",
    "    user_name    = input('Enter your name:')\n",
    "    age          = input('Age            :')\n",
    "    salary       = input('Salary         :')\n",
    "    organization = input('Workplace      :')\n",
    "    print('***********************************')\n",
    "    print('Name     :',user_name)\n",
    "    print('Age      :',age)\n",
    "    print('Salary   :',salary)\n",
    "    print('Workplace:',organization)\n",
    "    print('***********************************')"
   ]
  },
  {
   "cell_type": "code",
   "execution_count": 22,
   "id": "0d78a62a",
   "metadata": {},
   "outputs": [
    {
     "name": "stdout",
     "output_type": "stream",
     "text": [
      "***********************************\n",
      "Enter your name:Subhash Jadhav\n",
      "Age            :32\n",
      "Salary         :150000\n",
      "Workplace      :Indian Railway\n",
      "***********************************\n",
      "Name     : Subhash Jadhav\n",
      "Age      : 32\n",
      "Salary   : 150000\n",
      "Workplace: Indian Railway\n",
      "***********************************\n"
     ]
    }
   ],
   "source": [
    "get_employee_details_2()"
   ]
  },
  {
   "cell_type": "code",
   "execution_count": 24,
   "id": "9d11eb50",
   "metadata": {},
   "outputs": [
    {
     "name": "stdout",
     "output_type": "stream",
     "text": [
      "***********************************\n",
      "Enter your name:Vrushali Jadhav\n",
      "Age            :28\n",
      "Salary         :200000\n",
      "Workplace      :Google\n",
      "***********************************\n",
      "Name     : Vrushali Jadhav\n",
      "Age      : 28\n",
      "Salary   : 200000\n",
      "Workplace: Google\n",
      "***********************************\n"
     ]
    }
   ],
   "source": [
    "get_employee_details_2() # we can use same function for different database"
   ]
  },
  {
   "cell_type": "markdown",
   "id": "d992f219",
   "metadata": {},
   "source": [
    "### Variable-Length Aruments "
   ]
  },
  {
   "cell_type": "code",
   "execution_count": 29,
   "id": "0b35e509",
   "metadata": {},
   "outputs": [],
   "source": [
    "def get_employee_details_3(name,age,salary,organization):\n",
    "    print('***********************************')\n",
    "    print('Name     :',name)\n",
    "    print('Age      :',age)\n",
    "    print('Salary   :',salary)\n",
    "    print('Workplace:',organization)\n",
    "    print('***********************************')"
   ]
  },
  {
   "cell_type": "code",
   "execution_count": 27,
   "id": "2df88c84",
   "metadata": {},
   "outputs": [
    {
     "ename": "TypeError",
     "evalue": "get_employee_details_3() takes 4 positional arguments but 6 were given",
     "output_type": "error",
     "traceback": [
      "\u001b[1;31m---------------------------------------------------------------------------\u001b[0m",
      "\u001b[1;31mTypeError\u001b[0m                                 Traceback (most recent call last)",
      "Input \u001b[1;32mIn [27]\u001b[0m, in \u001b[0;36m<cell line: 3>\u001b[1;34m()\u001b[0m\n\u001b[0;32m      1\u001b[0m \u001b[38;5;66;03m#Error for understanding\u001b[39;00m\n\u001b[1;32m----> 3\u001b[0m \u001b[43mget_employee_details_3\u001b[49m\u001b[43m(\u001b[49m\u001b[38;5;124;43m'\u001b[39;49m\u001b[38;5;124;43mAjith\u001b[39;49m\u001b[38;5;124;43m'\u001b[39;49m\u001b[43m,\u001b[49m\u001b[38;5;241;43m25\u001b[39;49m\u001b[43m,\u001b[49m\u001b[38;5;241;43m35000\u001b[39;49m\u001b[43m,\u001b[49m\u001b[38;5;124;43m'\u001b[39;49m\u001b[38;5;124;43mTCS\u001b[39;49m\u001b[38;5;124;43m'\u001b[39;49m\u001b[43m,\u001b[49m\u001b[38;5;124;43m'\u001b[39;49m\u001b[38;5;124;43mMicrosoft\u001b[39;49m\u001b[38;5;124;43m'\u001b[39;49m\u001b[43m,\u001b[49m\u001b[38;5;124;43m'\u001b[39;49m\u001b[38;5;124;43mDELL\u001b[39;49m\u001b[38;5;124;43m'\u001b[39;49m\u001b[43m)\u001b[49m\n",
      "\u001b[1;31mTypeError\u001b[0m: get_employee_details_3() takes 4 positional arguments but 6 were given"
     ]
    }
   ],
   "source": [
    "## Error for understanding\n",
    "\n",
    "get_employee_details_3('Ajith',25,35000,'TCS','Microsoft','DELL')"
   ]
  },
  {
   "cell_type": "code",
   "execution_count": 31,
   "id": "a0deef52",
   "metadata": {},
   "outputs": [],
   "source": [
    "def get_employee_details_4(name,age,salary,*organization):\n",
    "    print('***********************************')\n",
    "    print('Name     :',name)\n",
    "    print('Age      :',age)\n",
    "    print('Salary   :',salary)\n",
    "    print('Workplace:',organization)\n",
    "    print('***********************************')"
   ]
  },
  {
   "cell_type": "code",
   "execution_count": 32,
   "id": "6a6120a5",
   "metadata": {},
   "outputs": [
    {
     "name": "stdout",
     "output_type": "stream",
     "text": [
      "***********************************\n",
      "Name     : Ajith\n",
      "Age      : 25\n",
      "Salary   : 35000\n",
      "Workplace: ('TCS', 'Microsoft', 'DELL')\n",
      "***********************************\n"
     ]
    }
   ],
   "source": [
    "get_employee_details_4('Ajith',25,35000,'TCS','Microsoft','DELL')"
   ]
  },
  {
   "cell_type": "markdown",
   "id": "601cf371",
   "metadata": {},
   "source": [
    "### Keyword - Argument"
   ]
  },
  {
   "cell_type": "code",
   "execution_count": 33,
   "id": "7b795da2",
   "metadata": {},
   "outputs": [],
   "source": [
    "def get_employee_details_5(name,age,salary,**organization):\n",
    "    print('***********************************')\n",
    "    print('Name     :',name)\n",
    "    print('Age      :',age)\n",
    "    print('Salary   :',salary)\n",
    "    print('Workplace:',organization)\n",
    "    print('***********************************')"
   ]
  },
  {
   "cell_type": "code",
   "execution_count": 34,
   "id": "1e2d50a0",
   "metadata": {},
   "outputs": [
    {
     "ename": "TypeError",
     "evalue": "get_employee_details_5() takes 3 positional arguments but 6 were given",
     "output_type": "error",
     "traceback": [
      "\u001b[1;31m---------------------------------------------------------------------------\u001b[0m",
      "\u001b[1;31mTypeError\u001b[0m                                 Traceback (most recent call last)",
      "Input \u001b[1;32mIn [34]\u001b[0m, in \u001b[0;36m<cell line: 1>\u001b[1;34m()\u001b[0m\n\u001b[1;32m----> 1\u001b[0m \u001b[43mget_employee_details_5\u001b[49m\u001b[43m(\u001b[49m\u001b[38;5;124;43m'\u001b[39;49m\u001b[38;5;124;43mAjith\u001b[39;49m\u001b[38;5;124;43m'\u001b[39;49m\u001b[43m,\u001b[49m\u001b[38;5;241;43m25\u001b[39;49m\u001b[43m,\u001b[49m\u001b[38;5;241;43m35000\u001b[39;49m\u001b[43m,\u001b[49m\u001b[38;5;124;43m'\u001b[39;49m\u001b[38;5;124;43mTCS\u001b[39;49m\u001b[38;5;124;43m'\u001b[39;49m\u001b[43m,\u001b[49m\u001b[38;5;124;43m'\u001b[39;49m\u001b[38;5;124;43mMicrosoft\u001b[39;49m\u001b[38;5;124;43m'\u001b[39;49m\u001b[43m,\u001b[49m\u001b[38;5;124;43m'\u001b[39;49m\u001b[38;5;124;43mDELL\u001b[39;49m\u001b[38;5;124;43m'\u001b[39;49m\u001b[43m)\u001b[49m\n",
      "\u001b[1;31mTypeError\u001b[0m: get_employee_details_5() takes 3 positional arguments but 6 were given"
     ]
    }
   ],
   "source": [
    "##Error\n",
    "get_employee_details_5('Ajith',25,35000,'TCS','Microsoft','DELL')"
   ]
  },
  {
   "cell_type": "code",
   "execution_count": 35,
   "id": "280c7800",
   "metadata": {},
   "outputs": [
    {
     "name": "stdout",
     "output_type": "stream",
     "text": [
      "***********************************\n",
      "Name     : Ajith\n",
      "Age      : 25\n",
      "Salary   : 35000\n",
      "Workplace: {'compnay_1': ' TCS', 'company_2': 'Microsoft', 'company_3': 'DELL'}\n",
      "***********************************\n"
     ]
    }
   ],
   "source": [
    "get_employee_details_5('Ajith',25,35000,compnay_1 =' TCS',company_2 = 'Microsoft',company_3 = 'DELL')"
   ]
  },
  {
   "cell_type": "markdown",
   "id": "8e14f9b1",
   "metadata": {},
   "source": [
    "### Variable-length and Keyword Argument"
   ]
  },
  {
   "cell_type": "code",
   "execution_count": 37,
   "id": "c758f526",
   "metadata": {},
   "outputs": [],
   "source": [
    "def get_employee_details_6(name,age,*salary,**organization):\n",
    "    print('***********************************')\n",
    "    print('Name     :',name)\n",
    "    print('Age      :',age)\n",
    "    print('Salary   :',salary)\n",
    "    print('Workplace:',organization)\n",
    "    print('***********************************')"
   ]
  },
  {
   "cell_type": "code",
   "execution_count": 38,
   "id": "4e1439f5",
   "metadata": {},
   "outputs": [
    {
     "name": "stdout",
     "output_type": "stream",
     "text": [
      "***********************************\n",
      "Name     : Vrushali\n",
      "Age      : 25\n",
      "Salary   : (35000, 45000, 150000)\n",
      "Workplace: {'compnay_1': ' TCS', 'company_2': 'Microsoft', 'company_3': 'DELL'}\n",
      "***********************************\n"
     ]
    }
   ],
   "source": [
    "get_employee_details_6('Vrushali',25,35000,45000,150000,compnay_1 =' TCS',company_2 = 'Microsoft',company_3 = 'DELL')"
   ]
  },
  {
   "cell_type": "code",
   "execution_count": 44,
   "id": "d6e98054",
   "metadata": {},
   "outputs": [],
   "source": [
    "def perform_multiplication(num1,num2):\n",
    "    return num1*num2  # Termination point"
   ]
  },
  {
   "cell_type": "code",
   "execution_count": 45,
   "id": "d27dd12d",
   "metadata": {},
   "outputs": [
    {
     "data": {
      "text/plain": [
       "4984"
      ]
     },
     "execution_count": 45,
     "metadata": {},
     "output_type": "execute_result"
    }
   ],
   "source": [
    "perform_multiplication(56,89)"
   ]
  },
  {
   "cell_type": "markdown",
   "id": "91475999",
   "metadata": {},
   "source": [
    "### A function can have multiple print function but not multiple return function bcz it will terminate the program"
   ]
  },
  {
   "cell_type": "code",
   "execution_count": 48,
   "id": "0eb2cbaf",
   "metadata": {},
   "outputs": [],
   "source": [
    "def perform_multiplication(num1,num2):\n",
    "    print(num1)\n",
    "    print(num1*num2)\n",
    "    return num1\n",
    "    return num1*num2"
   ]
  },
  {
   "cell_type": "code",
   "execution_count": 49,
   "id": "ae6a1d48",
   "metadata": {},
   "outputs": [
    {
     "name": "stdout",
     "output_type": "stream",
     "text": [
      "56\n",
      "4984\n"
     ]
    },
    {
     "data": {
      "text/plain": [
       "56"
      ]
     },
     "execution_count": 49,
     "metadata": {},
     "output_type": "execute_result"
    }
   ],
   "source": [
    "perform_multiplication(56,89) # Difference betweeen print & return function"
   ]
  },
  {
   "cell_type": "markdown",
   "id": "773658c8",
   "metadata": {},
   "source": [
    "### Note:"
   ]
  },
  {
   "cell_type": "markdown",
   "id": "4f5e0e7a",
   "metadata": {},
   "source": [
    "* Here return(num1) terminate the udf so only 56 is out of the loop.\n",
    "* print function only print the data which it have while using udf\n",
    "* return function impact the original dataset\n"
   ]
  },
  {
   "cell_type": "markdown",
   "id": "05d162d2",
   "metadata": {},
   "source": [
    "## 4.2 Run in Circles"
   ]
  },
  {
   "cell_type": "code",
   "execution_count": 50,
   "id": "a77d63dc",
   "metadata": {},
   "outputs": [
    {
     "data": {
      "text/plain": [
       "(1, 2, 3, 4, 5, 6, 7, 8, 9, 10)"
      ]
     },
     "execution_count": 50,
     "metadata": {},
     "output_type": "execute_result"
    }
   ],
   "source": [
    "1,2,3,4,5,6,7,8,9,10"
   ]
  },
  {
   "cell_type": "code",
   "execution_count": 57,
   "id": "c814b60c",
   "metadata": {},
   "outputs": [
    {
     "name": "stdout",
     "output_type": "stream",
     "text": [
      "1\n",
      "2\n",
      "3\n",
      "4\n",
      "5\n",
      "6\n",
      "7\n",
      "8\n",
      "9\n",
      "10\n"
     ]
    }
   ],
   "source": [
    "# printing 1 to 10\n",
    "\n",
    "for i in range(1,11,1):    \n",
    "    print(i)"
   ]
  },
  {
   "cell_type": "code",
   "execution_count": 58,
   "id": "fdb5246e",
   "metadata": {},
   "outputs": [
    {
     "name": "stdout",
     "output_type": "stream",
     "text": [
      "1\n",
      "3\n",
      "5\n",
      "7\n",
      "9\n"
     ]
    }
   ],
   "source": [
    "## printing odd nos. starting from 1\n",
    "\n",
    "for i in range(1,11,2):\n",
    "    print(i)"
   ]
  },
  {
   "cell_type": "code",
   "execution_count": 60,
   "id": "c48fbb1a",
   "metadata": {},
   "outputs": [
    {
     "name": "stdout",
     "output_type": "stream",
     "text": [
      "0\n",
      "2\n",
      "4\n",
      "6\n",
      "8\n",
      "10\n"
     ]
    }
   ],
   "source": [
    "## printing sum nos.starting from 0\n",
    "\n",
    "for i in range (0,11,2):\n",
    "    print(i)\n"
   ]
  },
  {
   "cell_type": "markdown",
   "id": "a393e38b",
   "metadata": {},
   "source": [
    "### 4.3 Create a udf with for loop"
   ]
  },
  {
   "cell_type": "code",
   "execution_count": 73,
   "id": "8cea0cf4",
   "metadata": {},
   "outputs": [],
   "source": [
    "def get_alphabets(name):\n",
    "    for i in name:\n",
    "        print('My task is just to Display.....')\n",
    "        print(i)\n",
    "    return \"Function Terminated\""
   ]
  },
  {
   "cell_type": "code",
   "execution_count": 74,
   "id": "19f7fc71",
   "metadata": {},
   "outputs": [
    {
     "name": "stdout",
     "output_type": "stream",
     "text": [
      "My task is just to Display.....\n",
      "V\n",
      "My task is just to Display.....\n",
      "r\n",
      "My task is just to Display.....\n",
      "u\n",
      "My task is just to Display.....\n",
      "s\n",
      "My task is just to Display.....\n",
      "h\n",
      "My task is just to Display.....\n",
      "a\n",
      "My task is just to Display.....\n",
      "l\n",
      "My task is just to Display.....\n",
      "i\n"
     ]
    },
    {
     "data": {
      "text/plain": [
       "'Function Terminated'"
      ]
     },
     "execution_count": 74,
     "metadata": {},
     "output_type": "execute_result"
    }
   ],
   "source": [
    "get_alphabets('Vrushali')"
   ]
  },
  {
   "cell_type": "markdown",
   "id": "2289633b",
   "metadata": {},
   "source": [
    "# ============================================================="
   ]
  },
  {
   "cell_type": "markdown",
   "id": "e03a4c71",
   "metadata": {},
   "source": [
    "# 5. Conditional Logics"
   ]
  },
  {
   "cell_type": "markdown",
   "id": "a197a2a7",
   "metadata": {},
   "source": [
    "## 5.1 Compare Values"
   ]
  },
  {
   "cell_type": "code",
   "execution_count": 75,
   "id": "4e4ab3b9",
   "metadata": {},
   "outputs": [
    {
     "data": {
      "text/plain": [
       "False"
      ]
     },
     "execution_count": 75,
     "metadata": {},
     "output_type": "execute_result"
    }
   ],
   "source": [
    "5 == '5'"
   ]
  },
  {
   "cell_type": "code",
   "execution_count": 76,
   "id": "49633148",
   "metadata": {},
   "outputs": [
    {
     "data": {
      "text/plain": [
       "True"
      ]
     },
     "execution_count": 76,
     "metadata": {},
     "output_type": "execute_result"
    }
   ],
   "source": [
    "5 == 5  # Equal to Operator"
   ]
  },
  {
   "cell_type": "code",
   "execution_count": 78,
   "id": "1c42781f",
   "metadata": {},
   "outputs": [
    {
     "data": {
      "text/plain": [
       "False"
      ]
     },
     "execution_count": 78,
     "metadata": {},
     "output_type": "execute_result"
    }
   ],
   "source": [
    "6 != 6 # NOT equal to operator"
   ]
  },
  {
   "cell_type": "code",
   "execution_count": 79,
   "id": "4c42f004",
   "metadata": {},
   "outputs": [
    {
     "data": {
      "text/plain": [
       "2.0"
      ]
     },
     "execution_count": 79,
     "metadata": {},
     "output_type": "execute_result"
    }
   ],
   "source": [
    "10/5  #Gives you quotient"
   ]
  },
  {
   "cell_type": "code",
   "execution_count": 80,
   "id": "cb9cfd89",
   "metadata": {},
   "outputs": [
    {
     "data": {
      "text/plain": [
       "1"
      ]
     },
     "execution_count": 80,
     "metadata": {},
     "output_type": "execute_result"
    }
   ],
   "source": [
    "11%2 # remainder"
   ]
  },
  {
   "cell_type": "code",
   "execution_count": 81,
   "id": "ba07d06c",
   "metadata": {},
   "outputs": [
    {
     "data": {
      "text/plain": [
       "False"
      ]
     },
     "execution_count": 81,
     "metadata": {},
     "output_type": "execute_result"
    }
   ],
   "source": [
    "53%2 == 0 # here remainder is no 0 so false"
   ]
  },
  {
   "cell_type": "markdown",
   "id": "48673b22",
   "metadata": {},
   "source": [
    "## Add some logics"
   ]
  },
  {
   "cell_type": "code",
   "execution_count": 82,
   "id": "16da6d93",
   "metadata": {},
   "outputs": [],
   "source": [
    "machine_learning = 98\n",
    "deep_learning    = 96\n",
    "nlp              = 95"
   ]
  },
  {
   "cell_type": "code",
   "execution_count": 83,
   "id": "95a7c96a",
   "metadata": {},
   "outputs": [
    {
     "data": {
      "text/plain": [
       "True"
      ]
     },
     "execution_count": 83,
     "metadata": {},
     "output_type": "execute_result"
    }
   ],
   "source": [
    "machine_learning > deep_learning"
   ]
  },
  {
   "cell_type": "code",
   "execution_count": 84,
   "id": "f355b0a3",
   "metadata": {},
   "outputs": [
    {
     "data": {
      "text/plain": [
       "False"
      ]
     },
     "execution_count": 84,
     "metadata": {},
     "output_type": "execute_result"
    }
   ],
   "source": [
    "nlp > deep_learning"
   ]
  },
  {
   "cell_type": "markdown",
   "id": "1980bb70",
   "metadata": {},
   "source": [
    "### >>>>> Different Operators in Python <<<<<<<<<<\n",
    "\n",
    "##### AND Operator - will return True, only if both conditions is True.\n",
    "##### OR Operator - will return True if anyone condition is True.\n",
    "##### IN operator - we use to check if that particular word is available in my data.\n",
    "##### NOT IN operator - we use to check if that particular word is not available in my data."
   ]
  },
  {
   "cell_type": "code",
   "execution_count": 86,
   "id": "4c041ad1",
   "metadata": {},
   "outputs": [
    {
     "data": {
      "text/plain": [
       "False"
      ]
     },
     "execution_count": 86,
     "metadata": {},
     "output_type": "execute_result"
    }
   ],
   "source": [
    "machine_learning > deep_learning and nlp > deep_learning"
   ]
  },
  {
   "cell_type": "code",
   "execution_count": 87,
   "id": "7d3a49a0",
   "metadata": {},
   "outputs": [
    {
     "data": {
      "text/plain": [
       "True"
      ]
     },
     "execution_count": 87,
     "metadata": {},
     "output_type": "execute_result"
    }
   ],
   "source": [
    "machine_learning > deep_learning or nlp > deep_learning"
   ]
  },
  {
   "cell_type": "code",
   "execution_count": 92,
   "id": "413ab50c",
   "metadata": {},
   "outputs": [
    {
     "data": {
      "text/plain": [
       "True"
      ]
     },
     "execution_count": 92,
     "metadata": {},
     "output_type": "execute_result"
    }
   ],
   "source": [
    "feedback = 'Python session with Daily Tasks is getting me better everyday'\n",
    "'better' in feedback"
   ]
  },
  {
   "cell_type": "code",
   "execution_count": 93,
   "id": "54fdb7e2",
   "metadata": {},
   "outputs": [
    {
     "data": {
      "text/plain": [
       "False"
      ]
     },
     "execution_count": 93,
     "metadata": {},
     "output_type": "execute_result"
    }
   ],
   "source": [
    "'better' not in feedback"
   ]
  },
  {
   "cell_type": "markdown",
   "id": "6cc21c48",
   "metadata": {},
   "source": [
    "## 5.3 Control the flow of program"
   ]
  },
  {
   "cell_type": "code",
   "execution_count": 95,
   "id": "f90e8ec8",
   "metadata": {},
   "outputs": [
    {
     "name": "stdout",
     "output_type": "stream",
     "text": [
      "Enter your Password:VRUSH\n",
      "STRONG PASSWORD\n"
     ]
    }
   ],
   "source": [
    "user_password = input('Enter your Password:')\n",
    "\n",
    "if len(user_password) < 5:\n",
    "    print('WEAK PASSWORD')\n",
    "else:\n",
    "    print('STRONG PASSWORD')"
   ]
  },
  {
   "cell_type": "code",
   "execution_count": 96,
   "id": "a5021f90",
   "metadata": {},
   "outputs": [
    {
     "name": "stdout",
     "output_type": "stream",
     "text": [
      "Enter your Password:VRUSH\n",
      "WEAK PASSWORD\n"
     ]
    }
   ],
   "source": [
    "user_password = input('Enter your Password:')\n",
    "\n",
    "if len(user_password) <= 5:\n",
    "    print('WEAK PASSWORD')\n",
    "else:\n",
    "    print('STRONG PASSWORD')"
   ]
  },
  {
   "cell_type": "code",
   "execution_count": 98,
   "id": "d6f899df",
   "metadata": {},
   "outputs": [
    {
     "name": "stdout",
     "output_type": "stream",
     "text": [
      "Enter your Password:Shreeja@14\n",
      "MODERATE PASSWORD\n"
     ]
    }
   ],
   "source": [
    "user_password = input('Enter your Password:')\n",
    "\n",
    "if len(user_password) <= 5:\n",
    "    print('WEAK PASSWORD')\n",
    "elif 6 < len(user_password) <=10:\n",
    "    print('MODERATE PASSWORD')\n",
    "else:\n",
    "    print('STRONG PASSWORD')"
   ]
  },
  {
   "cell_type": "markdown",
   "id": "ad921cb2",
   "metadata": {},
   "source": [
    "## 5.4 Break out of the pattern"
   ]
  },
  {
   "cell_type": "code",
   "execution_count": 99,
   "id": "d43f81b2",
   "metadata": {},
   "outputs": [
    {
     "name": "stdout",
     "output_type": "stream",
     "text": [
      "1\n",
      "2\n",
      "3\n",
      "4\n",
      "5\n",
      "6\n",
      "7\n",
      "8\n",
      "9\n",
      "10\n",
      "11\n",
      "12\n",
      "13\n",
      "14\n",
      "15\n",
      "16\n",
      "17\n",
      "18\n",
      "19\n",
      "20\n",
      "21\n",
      "22\n",
      "23\n",
      "24\n",
      "25\n",
      "26\n",
      "27\n",
      "28\n",
      "29\n",
      "30\n"
     ]
    }
   ],
   "source": [
    "for i in range (1,31):\n",
    "    print(i)"
   ]
  },
  {
   "cell_type": "code",
   "execution_count": 101,
   "id": "e272d089",
   "metadata": {},
   "outputs": [
    {
     "name": "stdout",
     "output_type": "stream",
     "text": [
      "1\n",
      "2\n",
      "3\n",
      "4\n"
     ]
    }
   ],
   "source": [
    "for i in range (1,31):\n",
    "    if i == 5:\n",
    "        break #Abrupt\n",
    "    print(i)"
   ]
  },
  {
   "cell_type": "code",
   "execution_count": 103,
   "id": "73f417f5",
   "metadata": {},
   "outputs": [
    {
     "name": "stdout",
     "output_type": "stream",
     "text": [
      "1\n",
      "2\n",
      "3\n",
      "4\n",
      "6\n",
      "7\n",
      "8\n",
      "9\n",
      "11\n",
      "12\n",
      "13\n",
      "14\n",
      "15\n",
      "16\n",
      "17\n",
      "18\n",
      "19\n",
      "20\n",
      "21\n",
      "22\n",
      "23\n",
      "24\n",
      "25\n",
      "26\n",
      "27\n",
      "28\n",
      "29\n",
      "30\n"
     ]
    }
   ],
   "source": [
    "for i in range(1,31):\n",
    "    if i == 5 or i == 10:\n",
    "        continue # ignore\n",
    "    print(i)"
   ]
  },
  {
   "cell_type": "code",
   "execution_count": 108,
   "id": "5b8c34d4",
   "metadata": {},
   "outputs": [
    {
     "name": "stdout",
     "output_type": "stream",
     "text": [
      "Type q to quit this window:A\n",
      "Type q to quit this window:SD\n",
      "Type q to quit this window:g\n",
      "Type q to quit this window:yt6\n",
      "Type q to quit this window:Q\n"
     ]
    }
   ],
   "source": [
    "while True:\n",
    "    \n",
    "    user_input = input('Type q to quit this window:')\n",
    "\n",
    "    if user_input.lower() == 'q':\n",
    "        break\n",
    "    "
   ]
  },
  {
   "cell_type": "markdown",
   "id": "e0ae4a21",
   "metadata": {},
   "source": [
    "# ============================================================="
   ]
  }
 ],
 "metadata": {
  "kernelspec": {
   "display_name": "Python 3 (ipykernel)",
   "language": "python",
   "name": "python3"
  },
  "language_info": {
   "codemirror_mode": {
    "name": "ipython",
    "version": 3
   },
   "file_extension": ".py",
   "mimetype": "text/x-python",
   "name": "python",
   "nbconvert_exporter": "python",
   "pygments_lexer": "ipython3",
   "version": "3.9.12"
  }
 },
 "nbformat": 4,
 "nbformat_minor": 5
}
